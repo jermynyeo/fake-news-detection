{
  "nbformat": 4,
  "nbformat_minor": 0,
  "metadata": {
    "colab": {
      "name": "Text_Mining_Classification.ipynb",
      "provenance": [],
      "collapsed_sections": [],
      "toc_visible": true
    },
    "kernelspec": {
      "display_name": "Python 3",
      "language": "python",
      "name": "python3"
    },
    "language_info": {
      "codemirror_mode": {
        "name": "ipython",
        "version": 3
      },
      "file_extension": ".py",
      "mimetype": "text/x-python",
      "name": "python",
      "nbconvert_exporter": "python",
      "pygments_lexer": "ipython3",
      "version": "3.8.3-final"
    }
  },
  "cells": [
    {
      "cell_type": "markdown",
      "metadata": {
        "id": "yA9Mcl2g9lSq"
      },
      "source": [
        "# Importing Libraries"
      ]
    },
    {
      "cell_type": "code",
      "metadata": {
        "colab": {
          "base_uri": "https://localhost:8080/"
        },
        "id": "cG4-nOaN99Ee",
        "outputId": "cbf6bbf7-eb95-400a-fec3-8966fa4589b7"
      },
      "source": [
        "!pip install wordcloud\n",
        "!pip install nltk"
      ],
      "execution_count": null,
      "outputs": [
        {
          "output_type": "stream",
          "text": [
            "Requirement already satisfied: wordcloud in /usr/local/lib/python3.7/dist-packages (1.5.0)\n",
            "Requirement already satisfied: pillow in /usr/local/lib/python3.7/dist-packages (from wordcloud) (7.0.0)\n",
            "Requirement already satisfied: numpy>=1.6.1 in /usr/local/lib/python3.7/dist-packages (from wordcloud) (1.19.5)\n",
            "Requirement already satisfied: nltk in /usr/local/lib/python3.7/dist-packages (3.2.5)\n",
            "Requirement already satisfied: six in /usr/local/lib/python3.7/dist-packages (from nltk) (1.15.0)\n",
            "[nltk_data] Downloading package stopwords to /root/nltk_data...\n",
            "[nltk_data]   Unzipping corpora/stopwords.zip.\n"
          ],
          "name": "stdout"
        },
        {
          "output_type": "execute_result",
          "data": {
            "text/plain": [
              "True"
            ]
          },
          "metadata": {
            "tags": []
          },
          "execution_count": 3
        }
      ]
    },
    {
      "cell_type": "code",
      "metadata": {
        "colab": {
          "base_uri": "https://localhost:8080/"
        },
        "id": "XZ6_NFbW9lTE",
        "outputId": "128cbbce-23ce-4092-c345-679b36c39d4b"
      },
      "source": [
        "import pandas as pd \n",
        "import numpy as np \n",
        "import time\n",
        "import pickle\n",
        "\n",
        "#For Text Cleaning\n",
        "import nltk\n",
        "from nltk.tokenize import word_tokenize\n",
        "from nltk.stem import PorterStemmer\n",
        "from nltk.stem import WordNetLemmatizer\n",
        "import re\n",
        "from nltk.corpus import stopwords\n",
        "nltk.download('stopwords')\n",
        "stop = stopwords.words('english')\n",
        "\n",
        "#For EDA\n",
        "from PIL import Image\n",
        "from wordcloud import WordCloud, STOPWORDS, ImageColorGenerator\n",
        "import matplotlib.pyplot as plt\n",
        "\n",
        "#For text vectorizing\n",
        "from nltk.tokenize import word_tokenize\n",
        "from sklearn.feature_extraction.text import CountVectorizer\n",
        "from nltk.tokenize import RegexpTokenizer\n",
        "from gensim import corpora\n",
        "from gensim import models\n",
        "import random\n",
        "\n",
        "#For naives bayes DF\n",
        "from sklearn.model_selection import train_test_split\n",
        "from sklearn.naive_bayes import MultinomialNB\n",
        "from sklearn import metrics\n",
        "from sklearn.metrics import classification_report\n",
        "from sklearn.metrics import confusion_matrix   \n",
        "\n",
        "from sklearn.model_selection import train_test_split\n",
        "from sklearn.feature_extraction.text import CountVectorizer\n",
        "from sklearn.feature_extraction.text import TfidfTransformer\n",
        "from sklearn.feature_extraction.text import TfidfVectorizer\n",
        "\n",
        "from sklearn import model_selection, naive_bayes, svm\n",
        "from sklearn.metrics import accuracy_score\n",
        "from sklearn.preprocessing import LabelEncoder\n",
        "from sklearn.linear_model import SGDClassifier\n",
        "from sklearn.ensemble import RandomForestClassifier\n",
        "from xgboost import XGBClassifier\n",
        "from sklearn.tree import DecisionTreeClassifier\n",
        "from sklearn.ensemble import AdaBoostClassifier\n",
        "from sklearn.neighbors import KNeighborsClassifier\n",
        "from sklearn.linear_model import LogisticRegression\n",
        "\n",
        "## for plotting\n",
        "import matplotlib.pyplot as plt\n",
        "import seaborn as sns\n",
        "## for bag-of-words\n",
        "from sklearn import feature_extraction, model_selection, manifold, preprocessing\n",
        "## for word embedding\n",
        "import gensim\n",
        "import gensim.downloader as gensim_api\n",
        "## for deep learning\n",
        "from tensorflow.keras import models, layers, preprocessing as kprocessing\n",
        "from tensorflow.keras import backend as K\n",
        "import tensorflow"
      ],
      "execution_count": null,
      "outputs": [
        {
          "output_type": "stream",
          "text": [
            "[nltk_data] Downloading package stopwords to /root/nltk_data...\n",
            "[nltk_data]   Package stopwords is already up-to-date!\n"
          ],
          "name": "stdout"
        }
      ]
    },
    {
      "cell_type": "markdown",
      "metadata": {
        "id": "klGR4qtj1HC3"
      },
      "source": [
        "#Relevant Functions"
      ]
    },
    {
      "cell_type": "code",
      "metadata": {
        "id": "6mZ6fexu1GXm"
      },
      "source": [
        "from sklearn.metrics import roc_curve, roc_auc_score\n",
        "def makeROC(classifiers, title, rocX_test, rocy_test):\n",
        "    # Define a result table as a DataFrame\n",
        "    result_table = pd.DataFrame(columns=['classifiers', 'fpr','tpr','auc'])\n",
        "\n",
        "    # Train the models and record the results\n",
        "    for cls in classifiers:\n",
        "        model = cls\n",
        "        yproba = model.predict_proba(rocX_test)[::,1]\n",
        "\n",
        "        fpr, tpr, _ = roc_curve(rocy_test,  yproba)\n",
        "        auc = roc_auc_score(rocy_test, yproba)\n",
        "\n",
        "        result_table = result_table.append({'classifiers':cls.__class__.__name__,\n",
        "                                            'fpr':fpr, \n",
        "                                            'tpr':tpr, \n",
        "                                            'auc':auc}, ignore_index=True)\n",
        "\n",
        "    # Set name of the classifiers as index labels\n",
        "    result_table.set_index('classifiers', inplace=True)\n",
        "    fig = plt.figure(figsize=(8,6))\n",
        "\n",
        "    for i in result_table.index:\n",
        "        plt.plot(result_table.loc[i]['fpr'], \n",
        "                 result_table.loc[i]['tpr'], \n",
        "                 label=\"{}, AUC={:.3f}\".format(i, result_table.loc[i]['auc']))\n",
        "\n",
        "    plt.plot([0,1], [0,1], color='orange', linestyle='--')\n",
        "\n",
        "    plt.xticks(np.arange(0.0, 1.1, step=0.1))\n",
        "    plt.xlabel(\"False Positive Rate\", fontsize=15)\n",
        "\n",
        "    plt.yticks(np.arange(0.0, 1.1, step=0.1))\n",
        "    plt.ylabel(\"True Positive Rate\", fontsize=15)\n",
        "\n",
        "    plt.title(('ROC Curve Analysis '+title), fontweight='bold', fontsize=15)\n",
        "    plt.legend(prop={'size':13}, loc='lower right')\n",
        "\n",
        "    plt.show()\n",
        "    "
      ],
      "execution_count": null,
      "outputs": []
    },
    {
      "source": [
        "# Classification"
      ],
      "cell_type": "markdown",
      "metadata": {}
    },
    {
      "cell_type": "code",
      "metadata": {
        "id": "Dn0Aw6qgGebl"
      },
      "source": [
        "Train_X, Test_X, Train_Y, Test_Y = model_selection.train_test_split(df['text'],df['label'],train_size= 0.45, stratify=df['label'], random_state=0)"
      ],
      "execution_count": null,
      "outputs": []
    },
    {
      "cell_type": "code",
      "metadata": {
        "id": "vitI_1iSGjx5"
      },
      "source": [
        "fulllist = []\n",
        "for i in df['text']:\n",
        "    fulllist.append(i)\n",
        "\n",
        "#Set maxfeatures to 5000 maybe next time\n",
        "Tfidf_vect = TfidfVectorizer(max_features=5000)\n",
        "Tfidf_vect.fit(fulllist)\n",
        "Train_X_Tfidf = Tfidf_vect.transform(Train_X)\n",
        "Test_X_Tfidf = Tfidf_vect.transform(Test_X)"
      ],
      "execution_count": null,
      "outputs": []
    },
    {
      "cell_type": "markdown",
      "metadata": {
        "id": "iXyml4SDwUIs"
      },
      "source": [
        "## Gridsearch Optimization (Please Do not run this section)"
      ]
    },
    {
      "cell_type": "code",
      "metadata": {
        "id": "1eEv3sbUwY8D"
      },
      "source": [
        "from sklearn.model_selection import GridSearchCV, RandomizedSearchCV\n",
        "\n",
        "def randomsearchmethod(clf, param_dist, n_iter_search):\n",
        "\n",
        "    # Utility function to report best scores\n",
        "    def report(results, n_top=3):\n",
        "        for i in range(1, n_top + 1):\n",
        "            candidates = np.flatnonzero(results['rank_test_score'] == i)\n",
        "            for candidate in candidates:\n",
        "                print(\"Model with rank: {0}\".format(i))\n",
        "                print(\"Mean validation score: {0:.3f} (std: {1:.3f})\"\n",
        "                      .format(results['mean_test_score'][candidate],\n",
        "                              results['std_test_score'][candidate]))\n",
        "                print(\"Parameters: {0}\".format(results['params'][candidate]))\n",
        "                print(\"\")\n",
        "\n",
        "    random_search = RandomizedSearchCV(clf, param_distributions=param_dist,\n",
        "                                       n_iter=n_iter_search)\n",
        "\n",
        "    random_search.fit(Train_X_Tfidf,Train_Y)\n",
        "    report(random_search.cv_results_)\n",
        "    "
      ],
      "execution_count": null,
      "outputs": []
    },
    {
      "cell_type": "markdown",
      "metadata": {
        "id": "trMvGGBNGx5o"
      },
      "source": [
        "### Stochastic Gradient Descent"
      ]
    },
    {
      "cell_type": "code",
      "metadata": {
        "colab": {
          "base_uri": "https://localhost:8080/"
        },
        "id": "5kuQkkjDwc5Y",
        "outputId": "776e6453-c7bc-493d-ff0a-79337dec5bd5"
      },
      "source": [
        "SGD = SGDClassifier(loss='log', penalty='l2', alpha=1e-3, n_iter_no_change=5)\n",
        "\n",
        "param_dist = {\n",
        "    'penalty': ['elasticnet','l2'],\n",
        "    'alpha': [10 ** x for x in range(-6, 1)],\n",
        "    'l1_ratio': [0, 0.05, 0.1, 0.2, 0.5, 0.8, 0.9, 0.95, 1],\n",
        "}\n",
        "\n",
        "n_iter_search = 20\n",
        "\n",
        "randomsearchmethod(SGD,param_dist, n_iter_search)"
      ],
      "execution_count": null,
      "outputs": [
        {
          "output_type": "stream",
          "text": [
            "Model with rank: 1\n",
            "Mean validation score: 0.946 (std: 0.002)\n",
            "Parameters: {'penalty': 'l2', 'l1_ratio': 0.9, 'alpha': 1e-05}\n",
            "\n",
            "Model with rank: 2\n",
            "Mean validation score: 0.945 (std: 0.002)\n",
            "Parameters: {'penalty': 'elasticnet', 'l1_ratio': 0.1, 'alpha': 1e-05}\n",
            "\n",
            "Model with rank: 3\n",
            "Mean validation score: 0.945 (std: 0.002)\n",
            "Parameters: {'penalty': 'l2', 'l1_ratio': 0.1, 'alpha': 1e-05}\n",
            "\n"
          ],
          "name": "stdout"
        }
      ]
    },
    {
      "cell_type": "markdown",
      "metadata": {
        "id": "-uvUL_5oHS8W"
      },
      "source": [
        "### AdaBoost"
      ]
    },
    {
      "cell_type": "code",
      "metadata": {
        "colab": {
          "base_uri": "https://localhost:8080/"
        },
        "id": "meEZAG4Ewfwk",
        "outputId": "b14cd872-9445-485e-c76d-ad3954f11181"
      },
      "source": [
        "ADA = AdaBoostClassifier()\n",
        "\n",
        "param_dist = {\n",
        "    'learning_rate' : [0.05, 0.1, 0.2, 0.5, 0.8, 0.9, 0.95, 1],\n",
        "    'n_estimators': [100,200,300,400],\n",
        "    'base_estimator': [DecisionTreeClassifier(random_state=0, max_depth=1), DecisionTreeClassifier(random_state=0, max_depth=2),DecisionTreeClassifier(random_state=0, max_depth=3)]\n",
        "}\n",
        "\n",
        "n_iter_search = 3\n",
        "\n",
        "randomsearchmethod(ADA,param_dist, n_iter_search)"
      ],
      "execution_count": null,
      "outputs": [
        {
          "output_type": "stream",
          "text": [
            "Model with rank: 1\n",
            "Mean validation score: 0.937 (std: 0.006)\n",
            "Parameters: {'n_estimators': 300, 'learning_rate': 0.95, 'base_estimator': DecisionTreeClassifier(ccp_alpha=0.0, class_weight=None, criterion='gini',\n",
            "                       max_depth=1, max_features=None, max_leaf_nodes=None,\n",
            "                       min_impurity_decrease=0.0, min_impurity_split=None,\n",
            "                       min_samples_leaf=1, min_samples_split=2,\n",
            "                       min_weight_fraction_leaf=0.0, presort='deprecated',\n",
            "                       random_state=0, splitter='best')}\n",
            "\n",
            "Model with rank: 2\n",
            "Mean validation score: 0.937 (std: 0.004)\n",
            "Parameters: {'n_estimators': 300, 'learning_rate': 0.9, 'base_estimator': DecisionTreeClassifier(ccp_alpha=0.0, class_weight=None, criterion='gini',\n",
            "                       max_depth=1, max_features=None, max_leaf_nodes=None,\n",
            "                       min_impurity_decrease=0.0, min_impurity_split=None,\n",
            "                       min_samples_leaf=1, min_samples_split=2,\n",
            "                       min_weight_fraction_leaf=0.0, presort='deprecated',\n",
            "                       random_state=0, splitter='best')}\n",
            "\n",
            "Model with rank: 3\n",
            "Mean validation score: 0.924 (std: 0.004)\n",
            "Parameters: {'n_estimators': 100, 'learning_rate': 0.9, 'base_estimator': DecisionTreeClassifier(ccp_alpha=0.0, class_weight=None, criterion='gini',\n",
            "                       max_depth=1, max_features=None, max_leaf_nodes=None,\n",
            "                       min_impurity_decrease=0.0, min_impurity_split=None,\n",
            "                       min_samples_leaf=1, min_samples_split=2,\n",
            "                       min_weight_fraction_leaf=0.0, presort='deprecated',\n",
            "                       random_state=0, splitter='best')}\n",
            "\n"
          ],
          "name": "stdout"
        }
      ]
    },
    {
      "cell_type": "markdown",
      "metadata": {
        "id": "ZUGklpziHV4J"
      },
      "source": [
        "### RandomForest"
      ]
    },
    {
      "cell_type": "code",
      "metadata": {
        "colab": {
          "base_uri": "https://localhost:8080/"
        },
        "id": "bZV_j3zMwh1j",
        "outputId": "005ac83f-1ebe-4f77-86b2-5c836c585a06"
      },
      "source": [
        "RF = RandomForestClassifier()\n",
        "\n",
        "param_dist = {\n",
        "    'max_depth': [5,10,15,20,25],\n",
        "    'n_estimators': [70,80,85,90,100]\n",
        "}\n",
        "\n",
        "n_iter_search = 20\n",
        "\n",
        "randomsearchmethod(RF,param_dist, n_iter_search)"
      ],
      "execution_count": null,
      "outputs": [
        {
          "output_type": "stream",
          "text": [
            "Model with rank: 1\n",
            "Mean validation score: 0.904 (std: 0.006)\n",
            "Parameters: {'n_estimators': 100, 'max_depth': 25}\n",
            "\n",
            "Model with rank: 2\n",
            "Mean validation score: 0.902 (std: 0.007)\n",
            "Parameters: {'n_estimators': 70, 'max_depth': 25}\n",
            "\n",
            "Model with rank: 3\n",
            "Mean validation score: 0.901 (std: 0.008)\n",
            "Parameters: {'n_estimators': 85, 'max_depth': 25}\n",
            "\n"
          ],
          "name": "stdout"
        }
      ]
    },
    {
      "cell_type": "markdown",
      "metadata": {
        "id": "y06SeV4XHbtH"
      },
      "source": [
        "### XGBoost Classifier"
      ]
    },
    {
      "cell_type": "code",
      "metadata": {
        "colab": {
          "base_uri": "https://localhost:8080/"
        },
        "id": "bKu2K7FowkdF",
        "outputId": "a0ec5b2e-c63b-4819-b061-54fc87d4ebdb"
      },
      "source": [
        "XGB = XGBClassifier()\n",
        "\n",
        "param_dist = {\n",
        "    'max_depth': [0,5,10,15,20,25],\n",
        "    'n_estimators': [50, 100, 150, 200, 250],\n",
        "    'reg_alpha': [0.05, 0.1, 0.2, 0.5, 0.8, 0.9, 0.95, 1]\n",
        "}\n",
        "\n",
        "n_iter_search = 3\n",
        "\n",
        "randomsearchmethod(XGB,param_dist, n_iter_search)"
      ],
      "execution_count": null,
      "outputs": [
        {
          "output_type": "stream",
          "text": [
            "Model with rank: 1\n",
            "Mean validation score: 0.945 (std: 0.005)\n",
            "Parameters: {'reg_alpha': 0.8, 'n_estimators': 200, 'max_depth': 10}\n",
            "\n",
            "Model with rank: 2\n",
            "Mean validation score: 0.945 (std: 0.006)\n",
            "Parameters: {'reg_alpha': 0.05, 'n_estimators': 200, 'max_depth': 15}\n",
            "\n",
            "Model with rank: 3\n",
            "Mean validation score: 0.942 (std: 0.005)\n",
            "Parameters: {'reg_alpha': 0.8, 'n_estimators': 150, 'max_depth': 25}\n",
            "\n"
          ],
          "name": "stdout"
        }
      ]
    },
    {
      "cell_type": "markdown",
      "metadata": {
        "id": "DerkdYSK_lHa"
      },
      "source": [
        "## Other forms of classification; eg. NN, SVM"
      ]
    },
    {
      "cell_type": "markdown",
      "metadata": {
        "id": "8gpPF6xxx6Ye"
      },
      "source": [
        "### Support Vector Classifier"
      ]
    },
    {
      "cell_type": "code",
      "metadata": {
        "id": "J1GGg8vgx_0q"
      },
      "source": [
        "'''\n",
        "from sklearn.svm import SVC\n",
        "\n",
        "SV = SVC(kernel='linear').fit(Train_X_Tfidf, Train_Y)\n",
        "\n",
        "predictions_SV = SV.predict(Test_X_Tfidf)\n",
        "# Use accuracy_score function to get the accuracy\n",
        "\n",
        "print(\"****SVC Report****\")\n",
        "print(\"XGBoost Accuracy:\",metrics.accuracy_score(Test_Y, predictions_SV))\n",
        "print('\\nClasification report:\\n', classification_report(Test_Y, predictions_SV))\n",
        "print('\\nConfussion matrix:\\n',confusion_matrix(Test_Y, predictions_SV)  )\n",
        "'''"
      ],
      "execution_count": null,
      "outputs": []
    },
    {
      "cell_type": "markdown",
      "metadata": {
        "id": "74bHb2wxPZqS"
      },
      "source": [
        "### Word2Vec Neural Network (Please do not rerun thanks)"
      ]
    },
    {
      "cell_type": "markdown",
      "metadata": {
        "id": "Bbq0ljhZFolK"
      },
      "source": [
        "#### Using Genism Api to draw pretrained news Word2Vec model"
      ]
    },
    {
      "cell_type": "code",
      "metadata": {
        "id": "TrM9Aen3nxL_",
        "colab": {
          "base_uri": "https://localhost:8080/"
        },
        "outputId": "8b989532-9c58-4811-ea6c-2be306b4290e"
      },
      "source": [
        "#nlp = gensim_api.load(\"word2vec-google-news-300\")\n",
        "## create list of lists of unigrams\n",
        "corpus = Train_X\n",
        "\n",
        "lst_corpus = []\n",
        "for string in corpus:\n",
        "   lst_words = string.split()\n",
        "   lst_grams = [\" \".join(lst_words[i:i+1]) \n",
        "               for i in range(0, len(lst_words), 1)]\n",
        "   lst_corpus.append(lst_grams)\n",
        "\n",
        "bigrams_detector = gensim.models.phrases.Phrases(lst_corpus, delimiter=\" \".encode(), min_count=5, threshold=10)\n",
        "bigrams_detector = gensim.models.phrases.Phraser(bigrams_detector)\n",
        "\n",
        "nlp = gensim.models.word2vec.Word2Vec(lst_corpus, size=300, window=8, min_count=1, sg=1, iter=30)\n",
        "\n",
        "## tokenize text\n",
        "tokenizer = kprocessing.text.Tokenizer(lower=True, split=' ', \n",
        "                     oov_token=\"NaN\", \n",
        "                     filters='!\"#$%&()*+,-./:;<=>?@[\\\\]^_`{|}~\\t\\n')\n",
        "tokenizer.fit_on_texts(lst_corpus)\n",
        "dic_vocabulary = tokenizer.word_index\n",
        "## create sequence\n",
        "lst_text2seq= tokenizer.texts_to_sequences(lst_corpus)\n",
        "## padding sequence\n",
        "X_train = kprocessing.sequence.pad_sequences(lst_text2seq, \n",
        "                    maxlen=15, padding=\"post\", truncating=\"post\")\n",
        "\n",
        "corpus = Test_X\n",
        "\n",
        "## create list of n-grams\n",
        "lst_corpus = []\n",
        "for string in corpus:\n",
        "    lst_words = string.split()\n",
        "    lst_grams = [\" \".join(lst_words[i:i+1]) for i in range(0, \n",
        "                 len(lst_words), 1)]\n",
        "    lst_corpus.append(lst_grams)\n",
        "    \n",
        "## detect common bigrams using the fitted detectors\n",
        "lst_corpus = list(bigrams_detector[lst_corpus])\n",
        "## text to sequence with the fitted tokenizer\n",
        "lst_text2seq = tokenizer.texts_to_sequences(lst_corpus)\n",
        "\n",
        "## padding sequence\n",
        "X_test = kprocessing.sequence.pad_sequences(lst_text2seq, maxlen=15,\n",
        "             padding=\"post\", truncating=\"post\")\n",
        "\n",
        "## start the matrix (length of vocabulary x vector size) with all 0s\n",
        "embeddings = np.zeros((len(dic_vocabulary)+1, 300))\n",
        "for word,idx in dic_vocabulary.items():\n",
        "    ## update the row with vector\n",
        "    try:\n",
        "        embeddings[idx] =  nlp[word]\n",
        "    ## if word not in model then skip and the row stays all 0s\n",
        "    except:\n",
        "        pass"
      ],
      "execution_count": null,
      "outputs": [
        {
          "output_type": "stream",
          "text": [
            "/usr/local/lib/python3.7/dist-packages/ipykernel_launcher.py:66: DeprecationWarning: Call to deprecated `__getitem__` (Method will be removed in 4.0.0, use self.wv.__getitem__() instead).\n"
          ],
          "name": "stderr"
        }
      ]
    },
    {
      "cell_type": "markdown",
      "metadata": {
        "id": "ruGyxr3JFyTD"
      },
      "source": [
        "#### Declare Neural Network Layers"
      ]
    },
    {
      "cell_type": "code",
      "metadata": {
        "colab": {
          "base_uri": "https://localhost:8080/"
        },
        "id": "jBRaKfkQFikr",
        "outputId": "64db21c4-031c-4283-933e-5239ac9551de"
      },
      "source": [
        "## code attention layer\n",
        "def attention_layer(inputs, neurons):\n",
        "    x = layers.Permute((2,1))(inputs)\n",
        "    x = layers.Dense(neurons, activation=\"softmax\")(x)\n",
        "    x = layers.Permute((2,1), name=\"attention\")(x)\n",
        "    x = layers.multiply([inputs, x])\n",
        "    return x\n",
        "\n",
        "## input\n",
        "x_in = layers.Input(shape=(15,))\n",
        "## embedding\n",
        "x = layers.Embedding(input_dim=embeddings.shape[0],  \n",
        "                     output_dim=embeddings.shape[1], \n",
        "                     weights=[embeddings],\n",
        "                     input_length=15, trainable=False)(x_in)\n",
        "## apply attention\n",
        "x = attention_layer(x, neurons=15)\n",
        "## 2 layers of bidirectional lstm\n",
        "x = layers.Bidirectional(layers.LSTM(units=15, dropout=0.3, \n",
        "                         return_sequences=True))(x)\n",
        "x = layers.Bidirectional(layers.LSTM(units=15, dropout=0.3))(x)\n",
        "## final dense layers\n",
        "x = layers.Dense(32, activation='relu')(x)\n",
        "y_out = layers.Dense(2, activation='softmax')(x)\n",
        "## compile\n",
        "NNmodel = models.Model(x_in, y_out)\n",
        "NNmodel.compile(loss=tensorflow.keras.losses.SparseCategoricalCrossentropy(),\n",
        "              optimizer='adam', metrics=['accuracy'])\n",
        "\n",
        "NNmodel.summary()"
      ],
      "execution_count": null,
      "outputs": [
        {
          "output_type": "stream",
          "text": [
            "Model: \"model_2\"\n",
            "__________________________________________________________________________________________________\n",
            "Layer (type)                    Output Shape         Param #     Connected to                     \n",
            "==================================================================================================\n",
            "input_3 (InputLayer)            [(None, 15)]         0                                            \n",
            "__________________________________________________________________________________________________\n",
            "embedding_2 (Embedding)         (None, 15, 300)      22216500    input_3[0][0]                    \n",
            "__________________________________________________________________________________________________\n",
            "permute_2 (Permute)             (None, 300, 15)      0           embedding_2[0][0]                \n",
            "__________________________________________________________________________________________________\n",
            "dense_6 (Dense)                 (None, 300, 15)      240         permute_2[0][0]                  \n",
            "__________________________________________________________________________________________________\n",
            "attention (Permute)             (None, 15, 300)      0           dense_6[0][0]                    \n",
            "__________________________________________________________________________________________________\n",
            "multiply_2 (Multiply)           (None, 15, 300)      0           embedding_2[0][0]                \n",
            "                                                                 attention[0][0]                  \n",
            "__________________________________________________________________________________________________\n",
            "bidirectional_4 (Bidirectional) (None, 15, 30)       37920       multiply_2[0][0]                 \n",
            "__________________________________________________________________________________________________\n",
            "bidirectional_5 (Bidirectional) (None, 30)           5520        bidirectional_4[0][0]            \n",
            "__________________________________________________________________________________________________\n",
            "dense_7 (Dense)                 (None, 32)           992         bidirectional_5[0][0]            \n",
            "__________________________________________________________________________________________________\n",
            "dense_8 (Dense)                 (None, 2)            66          dense_7[0][0]                    \n",
            "==================================================================================================\n",
            "Total params: 22,261,238\n",
            "Trainable params: 44,738\n",
            "Non-trainable params: 22,216,500\n",
            "__________________________________________________________________________________________________\n"
          ],
          "name": "stdout"
        }
      ]
    },
    {
      "cell_type": "markdown",
      "metadata": {
        "id": "GknRCLEBF8aL"
      },
      "source": [
        "#### Run and discover Epoch training and validation loss"
      ]
    },
    {
      "cell_type": "code",
      "metadata": {
        "colab": {
          "base_uri": "https://localhost:8080/",
          "height": 295
        },
        "id": "gSBI2dYqFoRc",
        "outputId": "6ddbd650-d499-4800-cb8c-2338f56000d7"
      },
      "source": [
        "## encode y\n",
        "dic_y_mapping = {n:label for n,label in \n",
        "                 enumerate(np.unique(Train_Y))}\n",
        "inverse_dic = {v:k for k,v in dic_y_mapping.items()}\n",
        "y_train = np.array([inverse_dic[y] for y in Train_Y])\n",
        "## train\n",
        "training = NNmodel.fit(x=X_train, y=y_train, batch_size=256, epochs=2, shuffle=True, verbose=0, validation_split=0.2)\n",
        "## plot loss and accuracy\n",
        "metrics = [k for k in training.history.keys() if (\"loss\" not in k) and (\"val\" not in k)]\n",
        "fig, ax = plt.subplots(nrows=1, ncols=2, sharey=True)\n",
        "ax[0].set(title=\"Training\")\n",
        "ax11 = ax[0].twinx()\n",
        "ax[0].plot(training.history['loss'], color='black')\n",
        "ax[0].set_xlabel('Epochs')\n",
        "ax[0].set_ylabel('Loss', color='black')\n",
        "for metric in metrics:\n",
        "    ax11.plot(training.history[metric], label=metric)\n",
        "ax11.set_ylabel(\"Score\", color='steelblue')\n",
        "ax11.legend()\n",
        "ax[1].set(title=\"Validation\")\n",
        "ax22 = ax[1].twinx()\n",
        "ax[1].plot(training.history['val_loss'], color='black')\n",
        "ax[1].set_xlabel('Epochs')\n",
        "ax[1].set_ylabel('Loss', color='black')\n",
        "for metric in metrics:\n",
        "     ax22.plot(training.history['val_'+metric], label=metric)\n",
        "ax22.set_ylabel(\"Score\", color=\"steelblue\")\n",
        "plt.show()\n",
        "\n",
        "## Prediction\n",
        "predicted_prob = NNmodel.predict(X_test)\n",
        "predicted = [dic_y_mapping[np.argmax(pred)] for pred in \n",
        "             predicted_prob]"
      ],
      "execution_count": null,
      "outputs": [
        {
          "output_type": "display_data",
          "data": {
            "image/png": "[encoded data removed]",
            "text/plain": [
              "<Figure size 432x288 with 4 Axes>"
            ]
          },
          "metadata": {
            "tags": [],
            "needs_background": "light"
          }
        }
      ]
    },
    {
      "cell_type": "markdown",
      "metadata": {
        "id": "dC45wWcKGLM5"
      },
      "source": [
        "#### LSTM Accuracy Report"
      ]
    },
    {
      "cell_type": "code",
      "metadata": {
        "colab": {
          "base_uri": "https://localhost:8080/"
        },
        "id": "Jn8_k6PPFp8N",
        "outputId": "6426ac4b-76e8-43d8-f94e-3bd17172f4e4"
      },
      "source": [
        "print(\"****LSTM Report****\")\n",
        "print(\"LSTM Accuracy:\",metrics.accuracy_score(Test_Y, predicted))\n",
        "print('\\nClasification report:\\n', classification_report(Test_Y, predicted))\n",
        "print('\\nConfussion matrix:\\n',confusion_matrix(Test_Y, predicted)  )"
      ],
      "execution_count": null,
      "outputs": [
        {
          "output_type": "stream",
          "text": [
            "****LSTM Report****\n",
            "LSTM Accuracy: 0.8300857365549493\n",
            "\n",
            "Clasification report:\n",
            "               precision    recall  f1-score   support\n",
            "\n",
            "           0       0.75      0.95      0.84     12005\n",
            "           1       0.95      0.72      0.82     13655\n",
            "\n",
            "    accuracy                           0.83     25660\n",
            "   macro avg       0.85      0.84      0.83     25660\n",
            "weighted avg       0.85      0.83      0.83     25660\n",
            "\n",
            "\n",
            "Confussion matrix:\n",
            " [[11433   572]\n",
            " [ 3788  9867]]\n"
          ],
          "name": "stdout"
        }
      ]
    },
    {
      "cell_type": "markdown",
      "metadata": {
        "id": "66H1Onc_wMro"
      },
      "source": [
        "## Classification Accuracy Report"
      ]
    },
    {
      "cell_type": "code",
      "metadata": {
        "id": "R0TlGfJbRLXO"
      },
      "source": [
        "# replace ngram_range = (1,2) for bigram\n",
        "NB = MultinomialNB().fit(Train_X_Tfidf,Train_Y)\n",
        "\n",
        "SGD = SGDClassifier(loss='log', penalty= 'l2', l1_ratio= 0.05, alpha= 1e-05, n_iter_no_change=5).fit(Train_X_Tfidf,Train_Y)\n",
        "\n",
        "ADA = AdaBoostClassifier(n_estimators= 300, learning_rate= 0.2, base_estimator= DecisionTreeClassifier(class_weight=None, criterion='gini', max_depth=2,)).fit(Train_X_Tfidf, Train_Y)\n",
        "\n",
        "RF = RandomForestClassifier(n_estimators=100, max_depth=25, random_state=0).fit(Train_X_Tfidf, Train_Y)\n",
        "\n",
        "XGB = XGBClassifier(n_estimators = 200, max_depth=15, reg_alpha=0.05).fit(Train_X_Tfidf, Train_Y)\n",
        "\n",
        "# Save to file in the current working directory\n",
        "pkl_filename = \"BaseTFIDFNB.pkl\"\n",
        "with open(pkl_filename, 'wb') as file:\n",
        "    pickle.dump(NB, file)\n",
        "\n",
        "pkl_filename = \"BaseTFIDFSGD.pkl\"\n",
        "with open(pkl_filename, 'wb') as file:\n",
        "    pickle.dump(SGD, file)\n",
        "\n",
        "pkl_filename = \"BaseTFIDFADA.pkl\"\n",
        "with open(pkl_filename, 'wb') as file:\n",
        "    pickle.dump(ADA, file)\n",
        "\n",
        "pkl_filename = \"BaseTFIDFRF.pkl\"\n",
        "with open(pkl_filename, 'wb') as file:\n",
        "    pickle.dump(RF, file)\n",
        "\n",
        "pkl_filename = \"BaseTFIDFXGB.pkl\"\n",
        "with open(pkl_filename, 'wb') as file:\n",
        "    pickle.dump(XGB, file)"
      ],
      "execution_count": null,
      "outputs": []
    },
    {
      "cell_type": "code",
      "metadata": {
        "colab": {
          "base_uri": "https://localhost:8080/"
        },
        "id": "lPiWY5j1wMX6",
        "outputId": "50325834-da7c-4c7f-888d-3a77b113ab99"
      },
      "source": [
        "# Load from file\n",
        "pkl_filename = \"BaseTFIDFNB.pkl\"\n",
        "with open(pkl_filename, 'rb') as file:\n",
        "    NB = pickle.load(file)\n",
        "predictions_NB = NB.predict(Test_X_Tfidf)\n",
        "# Use accuracy_score function to get the accuracy\n",
        "print(\"****NB Report****\")\n",
        "print(\"MultinomialNB Accuracy:\",metrics.accuracy_score(Test_Y, predictions_NB))\n",
        "print('\\nClasification report:\\n', classification_report(Test_Y, predictions_NB))\n",
        "print('\\nConfussion matrix:\\n',confusion_matrix(Test_Y, predictions_NB)  )\n",
        "print()\n",
        "print(\"*\"*36)\n",
        "\n",
        "# Load from file\n",
        "pkl_filename = \"BaseTFIDFSGD.pkl\"\n",
        "with open(pkl_filename, 'rb') as file:\n",
        "    SGD = pickle.load(file)\n",
        "# predict the labels on validation dataset\n",
        "predictions_SGD = SGD.predict(Test_X_Tfidf)\n",
        "# Use accuracy_score function to get the accuracy\n",
        "print(\"****SGD Report****\")\n",
        "print(\"SGD Accuracy:\",metrics.accuracy_score(Test_Y, predictions_SGD))\n",
        "print('\\nClasification report:\\n', classification_report(Test_Y, predictions_SGD))\n",
        "print('\\nConfussion matrix:\\n',confusion_matrix(Test_Y, predictions_SGD))\n",
        "print()\n",
        "print(\"*\"*36)\n",
        "\n",
        "# Load from file\n",
        "pkl_filename = \"BaseTFIDFADA.pkl\"\n",
        "with open(pkl_filename, 'rb') as file:\n",
        "    ADA = pickle.load(file)\n",
        "predictions_ADA = ADA.predict(Test_X_Tfidf)\n",
        "# Use accuracy_score function to get the accuracy\n",
        "print(\"****ADABoost Report****\")\n",
        "print(\"AdaBoostClassifier Accuracy:\",metrics.accuracy_score(Test_Y, predictions_ADA))\n",
        "print('\\nClasification report:\\n', classification_report(Test_Y, predictions_ADA))\n",
        "print('\\nConfussion matrix:\\n',confusion_matrix(Test_Y, predictions_ADA) )\n",
        "print()\n",
        "print(\"*\"*36)\n",
        "\n",
        "# Load from file\n",
        "pkl_filename = \"BaseTFIDFRF.pkl\"\n",
        "with open(pkl_filename, 'rb') as file:\n",
        "    RF = pickle.load(file)\n",
        "predictions_RF = RF.predict(Test_X_Tfidf)\n",
        "# Use accuracy_score function to get the accuracy\n",
        "print(\"****RF Report****\")\n",
        "print(\"RandomForest Accuracy:\",metrics.accuracy_score(Test_Y, predictions_RF))\n",
        "print('\\nClasification report:\\n', classification_report(Test_Y, predictions_RF))\n",
        "print('\\nConfussion matrix:\\n',confusion_matrix(Test_Y, predictions_RF)  )\n",
        "print()\n",
        "print(\"*\"*36)\n",
        "\n",
        "# Load from file\n",
        "pkl_filename = \"BaseTFIDFXGB.pkl\"\n",
        "with open(pkl_filename, 'rb') as file:\n",
        "    XGB = pickle.load(file)\n",
        "predictions_XGB = XGB.predict(Test_X_Tfidf)\n",
        "# Use accuracy_score function to get the accuracy\n",
        "print(\"****XGB Report****\")\n",
        "print(\"XGBoost Accuracy:\",metrics.accuracy_score(Test_Y, predictions_XGB))\n",
        "print('\\nClasification report:\\n', classification_report(Test_Y, predictions_XGB))\n",
        "print('\\nConfussion matrix:\\n',confusion_matrix(Test_Y, predictions_XGB)  )"
      ],
      "execution_count": null,
      "outputs": [
        {
          "output_type": "stream",
          "text": [
            "****NB Report****\n",
            "MultinomialNB Accuracy: 0.8798129384255651\n",
            "\n",
            "Clasification report:\n",
            "               precision    recall  f1-score   support\n",
            "\n",
            "           0       0.86      0.89      0.87     12005\n",
            "           1       0.90      0.87      0.89     13655\n",
            "\n",
            "    accuracy                           0.88     25660\n",
            "   macro avg       0.88      0.88      0.88     25660\n",
            "weighted avg       0.88      0.88      0.88     25660\n",
            "\n",
            "\n",
            "Confussion matrix:\n",
            " [[10698  1307]\n",
            " [ 1777 11878]]\n",
            "\n",
            "************************************\n",
            "****SGD Report****\n",
            "SGD Accuracy: 0.939867498051442\n",
            "\n",
            "Clasification report:\n",
            "               precision    recall  f1-score   support\n",
            "\n",
            "           0       0.93      0.94      0.94     12005\n",
            "           1       0.95      0.94      0.94     13655\n",
            "\n",
            "    accuracy                           0.94     25660\n",
            "   macro avg       0.94      0.94      0.94     25660\n",
            "weighted avg       0.94      0.94      0.94     25660\n",
            "\n",
            "\n",
            "Confussion matrix:\n",
            " [[11269   736]\n",
            " [  807 12848]]\n",
            "\n",
            "************************************\n",
            "****ADABoost Report****\n",
            "AdaBoostClassifier Accuracy: 0.9372174590802806\n",
            "\n",
            "Clasification report:\n",
            "               precision    recall  f1-score   support\n",
            "\n",
            "           0       0.93      0.94      0.93     12005\n",
            "           1       0.94      0.94      0.94     13655\n",
            "\n",
            "    accuracy                           0.94     25660\n",
            "   macro avg       0.94      0.94      0.94     25660\n",
            "weighted avg       0.94      0.94      0.94     25660\n",
            "\n",
            "\n",
            "Confussion matrix:\n",
            " [[11228   777]\n",
            " [  834 12821]]\n",
            "\n",
            "************************************\n",
            "****RF Report****\n",
            "RandomForest Accuracy: 0.9266952455183164\n",
            "\n",
            "Clasification report:\n",
            "               precision    recall  f1-score   support\n",
            "\n",
            "           0       0.93      0.91      0.92     12005\n",
            "           1       0.93      0.94      0.93     13655\n",
            "\n",
            "    accuracy                           0.93     25660\n",
            "   macro avg       0.93      0.93      0.93     25660\n",
            "weighted avg       0.93      0.93      0.93     25660\n",
            "\n",
            "\n",
            "Confussion matrix:\n",
            " [[10978  1027]\n",
            " [  854 12801]]\n",
            "\n",
            "************************************\n",
            "****XGB Report****\n",
            "XGBoost Accuracy: 0.9417770849571317\n",
            "\n",
            "Clasification report:\n",
            "               precision    recall  f1-score   support\n",
            "\n",
            "           0       0.94      0.94      0.94     12005\n",
            "           1       0.95      0.94      0.95     13655\n",
            "\n",
            "    accuracy                           0.94     25660\n",
            "   macro avg       0.94      0.94      0.94     25660\n",
            "weighted avg       0.94      0.94      0.94     25660\n",
            "\n",
            "\n",
            "Confussion matrix:\n",
            " [[11279   726]\n",
            " [  768 12887]]\n"
          ],
          "name": "stdout"
        }
      ]
    },
    {
      "cell_type": "markdown",
      "metadata": {
        "id": "6W2npn0Y_n1m"
      },
      "source": [
        "## Base Model ROC Comparison"
      ]
    },
    {
      "cell_type": "code",
      "metadata": {
        "colab": {
          "base_uri": "https://localhost:8080/",
          "height": 443
        },
        "id": "z9SJvWWWSN2e",
        "outputId": "de3e0a43-fcf6-44d2-d1a8-c32fca8cd8a4"
      },
      "source": [
        "print()\n",
        "print(\"*\"*36)\n",
        "\n",
        "makeROC([NB, XGB, RF, ADA, SGD],\"TFIDF Real Vs Fake Performance\", Test_X_Tfidf, Test_Y)"
      ],
      "execution_count": null,
      "outputs": [
        {
          "output_type": "stream",
          "text": [
            "\n",
            "************************************\n"
          ],
          "name": "stdout"
        },
        {
          "output_type": "display_data",
          "data": {
            "image/png": "[encoded data removed]",
            "text/plain": [
              "<Figure size 576x432 with 1 Axes>"
            ]
          },
          "metadata": {
            "tags": []
          }
        }
      ]
    },
    {
      "cell_type": "markdown",
      "metadata": {
        "id": "UDXux7e1Kdi7"
      },
      "source": [
        "# Classification with Sentiment, Topic, Entity Data"
      ]
    },
    {
      "cell_type": "markdown",
      "metadata": {
        "id": "Rg8Usg25SlLT"
      },
      "source": [
        "## Importing Sentiment, Topic, and Entity Data"
      ]
    },
    {
      "cell_type": "code",
      "metadata": {
        "id": "I6vv_9WVSNvu"
      },
      "source": [
        "dfemotion = pd.read_excel(\"sample_data/pos_groupings_vader_emotion.xlsx\")\n",
        "dfemotion = dfemotion.drop(['text','title','Unnamed: 0','index','label_y','compound'], axis=1)\n",
        "dftopic = pd.read_excel(\"sample_data/topic_distribution_14.xlsx\")\n",
        "dftopic = dftopic.drop(['Unnamed: 0','Text'], axis=1)\n",
        "\n",
        "entity = pd.read_csv(\"sample_data/Entity_final.csv\")\n",
        "entity = entity.drop(['title','text','label','index','person entities','organisation entities','location entities'], axis=1)"
      ],
      "execution_count": null,
      "outputs": []
    },
    {
      "cell_type": "markdown",
      "metadata": {
        "id": "TJMbRf2nWi0Q"
      },
      "source": [
        "## Combining Text with Topic probabilities, and Entity with Sentiment and POS Data"
      ]
    },
    {
      "cell_type": "code",
      "metadata": {
        "id": "36ajKFAJXbTj"
      },
      "source": [
        "#Split text set to 20k rows\n",
        "Train_X, Test_X, Train_Y, Test_Y = model_selection.train_test_split(df['text'],df['label'],train_size= 0.45, stratify=df['label'], random_state=0)\n",
        "\n",
        "#TFIDF Vectorize New Sample Set\n",
        "fulllist = []\n",
        "for i in Train_X:\n",
        "    fulllist.append(i)\n",
        "\n",
        "Tfidf_vect = TfidfVectorizer(max_features=5000)\n",
        "Tfidf_vect.fit(fulllist)\n",
        "Train_X_Tfidf = Tfidf_vect.transform(Train_X)\n",
        "\n",
        "#Convert to dataframe\n",
        "Train_X_df = pd.DataFrame(Train_X_Tfidf.toarray(), columns=Tfidf_vect.get_feature_names())\n",
        "Train_Y = Train_Y.fillna(0)\n",
        "\n",
        "#Combine dataframes\n",
        "dftopic = pd.concat([dftopic, Train_X_df], axis=1)\n",
        "dfemotion = pd.concat([dfemotion, entity[['person entity count', 'organisation entity count' , 'location entity count']]], axis=1)\n",
        "save_y = Train_Y.copy()\n",
        "\n",
        "#Create test and train text set\n",
        "Train_X_Topic, Test_X_Topic, Train_Y_Topic, Test_Y_Topic = model_selection.train_test_split(dftopic,Train_Y, train_size= 0.4, stratify=Train_Y, random_state=0)\n",
        "Train_X_Emotion, Test_X_Emotion, Train_Y_Emotion, Test_Y_Emotion = model_selection.train_test_split(dfemotion,Train_Y, train_size= 0.4, stratify=Train_Y, random_state=0)\n",
        "Train_X, Test_X, Train_Y, Test_Y = model_selection.train_test_split(Train_X_df,Train_Y,train_size= 0.4, stratify=Train_Y, random_state=0)"
      ],
      "execution_count": null,
      "outputs": []
    },
    {
      "cell_type": "code",
      "metadata": {
        "id": "0T_tYWYYH9za"
      },
      "source": [
        "from sklearn.model_selection import GridSearchCV, RandomizedSearchCV\n",
        "\n",
        "def randomsearchmethod(clf, param_dist, n_iter_search, Train_X_Tfidf, Train_Y):\n",
        "\n",
        "    # Utility function to report best scores\n",
        "    def report(results, n_top=3):\n",
        "        for i in range(1, n_top + 1):\n",
        "            candidates = np.flatnonzero(results['rank_test_score'] == i)\n",
        "            for candidate in candidates:\n",
        "                print(\"Model with rank: {0}\".format(i))\n",
        "                print(\"Mean validation score: {0:.3f} (std: {1:.3f})\"\n",
        "                      .format(results['mean_test_score'][candidate],\n",
        "                              results['std_test_score'][candidate]))\n",
        "                print(\"Parameters: {0}\".format(results['params'][candidate]))\n",
        "                print(\"\")\n",
        "\n",
        "    random_search = RandomizedSearchCV(clf, param_distributions=param_dist,\n",
        "                                       n_iter=n_iter_search)\n",
        "\n",
        "    random_search.fit(Train_X_Tfidf,Train_Y)\n",
        "    report(random_search.cv_results_)\n",
        "    "
      ],
      "execution_count": null,
      "outputs": []
    },
    {
      "cell_type": "markdown",
      "metadata": {
        "id": "B_eVCBYgJp7K"
      },
      "source": [
        "## Topic Data Classification"
      ]
    },
    {
      "cell_type": "markdown",
      "metadata": {
        "id": "BW33HdOpJxwG"
      },
      "source": [
        "### Topic Data Optimization"
      ]
    },
    {
      "cell_type": "code",
      "metadata": {
        "colab": {
          "base_uri": "https://localhost:8080/"
        },
        "id": "HoPXVX4nJwSS",
        "outputId": "f338b5ba-3b59-4944-aaf9-ce18a875b8ee"
      },
      "source": [
        "print(\"*\"*36)\n",
        "print(\"SGD Optimization\")\n",
        "SGD = SGDClassifier(loss='log', penalty='l2', alpha=1e-3, n_iter_no_change=5)\n",
        "param_dist = {\n",
        "    'penalty': ['elasticnet','l2'],\n",
        "    'alpha': [10 ** x for x in range(-6, 1)],\n",
        "    'l1_ratio': [0, 0.05, 0.1, 0.2, 0.5, 0.8, 0.9, 0.95, 1],\n",
        "}\n",
        "n_iter_search = 20\n",
        "randomsearchmethod(SGD,param_dist, n_iter_search, Train_X_Topic,Train_Y_Topic)\n"
      ],
      "execution_count": null,
      "outputs": [
        {
          "output_type": "stream",
          "text": [
            "************************************\n",
            "SGD Optimization\n",
            "Model with rank: 1\n",
            "Mean validation score: 0.932 (std: 0.006)\n",
            "Parameters: {'penalty': 'elasticnet', 'l1_ratio': 0.1, 'alpha': 0.0001}\n",
            "\n",
            "Model with rank: 2\n",
            "Mean validation score: 0.929 (std: 0.005)\n",
            "Parameters: {'penalty': 'l2', 'l1_ratio': 0.1, 'alpha': 0.0001}\n",
            "\n",
            "Model with rank: 3\n",
            "Mean validation score: 0.924 (std: 0.005)\n",
            "Parameters: {'penalty': 'l2', 'l1_ratio': 0.1, 'alpha': 1e-05}\n",
            "\n",
            "\n"
          ],
          "name": "stdout"
        }
      ]
    },
    {
      "cell_type": "code",
      "metadata": {
        "colab": {
          "base_uri": "https://localhost:8080/"
        },
        "id": "IQiAlQQfohK1",
        "outputId": "17be4e45-920b-4cac-ed35-8b3959e0ea61"
      },
      "source": [
        "print(\"*\"*36)\n",
        "print(\"ADABoost Optimization\")\n",
        "ADA = AdaBoostClassifier()\n",
        "param_dist = {\n",
        "    'learning_rate' : [0.05, 0.1, 0.2, 0.5, 0.8, 0.9, 0.95, 1],\n",
        "    'n_estimators': [100,200,300,400],\n",
        "    'base_estimator': [DecisionTreeClassifier(random_state=0, max_depth=1), DecisionTreeClassifier(random_state=0, max_depth=2),DecisionTreeClassifier(random_state=0, max_depth=3)]\n",
        "}\n",
        "n_iter_search = 2\n",
        "randomsearchmethod(ADA,param_dist, n_iter_search, Train_X_Topic,Train_Y_Topic)"
      ],
      "execution_count": null,
      "outputs": [
        {
          "output_type": "stream",
          "text": [
            "************************************\n",
            "ADABoost Optimization\n",
            "Model with rank: 1\n",
            "Mean validation score: 0.930 (std: 0.005)\n",
            "Parameters: {'n_estimators': 300, 'learning_rate': 0.1, 'base_estimator': DecisionTreeClassifier(ccp_alpha=0.0, class_weight=None, criterion='gini',\n",
            "                       max_depth=2, max_features=None, max_leaf_nodes=None,\n",
            "                       min_impurity_decrease=0.0, min_impurity_split=None,\n",
            "                       min_samples_leaf=1, min_samples_split=2,\n",
            "                       min_weight_fraction_leaf=0.0, presort='deprecated',\n",
            "                       random_state=0, splitter='best')}\n",
            "\n",
            "Model with rank: 2\n",
            "Mean validation score: 0.925 (std: 0.007)\n",
            "Parameters: {'n_estimators': 300, 'learning_rate': 0.9, 'base_estimator': DecisionTreeClassifier(ccp_alpha=0.0, class_weight=None, criterion='gini',\n",
            "                       max_depth=1, max_features=None, max_leaf_nodes=None,\n",
            "                       min_impurity_decrease=0.0, min_impurity_split=None,\n",
            "                       min_samples_leaf=1, min_samples_split=2,\n",
            "                       min_weight_fraction_leaf=0.0, presort='deprecated',\n",
            "                       random_state=0, splitter='best')}\n",
            "\n"
          ],
          "name": "stdout"
        }
      ]
    },
    {
      "cell_type": "code",
      "metadata": {
        "colab": {
          "base_uri": "https://localhost:8080/"
        },
        "id": "khyTVY2voi2m",
        "outputId": "88bafd3d-a0e7-4f30-e70e-f45e62240e2c"
      },
      "source": [
        "#Restart this one it ran on emotion\n",
        "print(\"*\"*36)\n",
        "print(\"Random Forest Optimization\")\n",
        "RF = RandomForestClassifier()\n",
        "param_dist = {\n",
        "    'max_depth': [5,10,15,20,25,30,35,40],\n",
        "    'n_estimators': [70,80,85,90,100,110,120,130,140]\n",
        "}\n",
        "n_iter_search = 20\n",
        "randomsearchmethod(RF,param_dist, n_iter_search, Train_X_Topic,Train_Y_Topic)"
      ],
      "execution_count": null,
      "outputs": [
        {
          "output_type": "stream",
          "text": [
            "************************************\n",
            "Random Forest Optimization\n",
            "Model with rank: 1\n",
            "Mean validation score: 0.924 (std: 0.005)\n",
            "Parameters: {'n_estimators': 110, 'max_depth': 40}\n",
            "\n",
            "Model with rank: 2\n",
            "Mean validation score: 0.924 (std: 0.005)\n",
            "Parameters: {'n_estimators': 120, 'max_depth': 35}\n",
            "\n",
            "Model with rank: 3\n",
            "Mean validation score: 0.923 (std: 0.006)\n",
            "Parameters: {'n_estimators': 90, 'max_depth': 30}\n",
            "\n"
          ],
          "name": "stdout"
        }
      ]
    },
    {
      "cell_type": "code",
      "metadata": {
        "colab": {
          "base_uri": "https://localhost:8080/"
        },
        "id": "VyLMOa7gok4s",
        "outputId": "91af8790-5809-4de3-92e0-660bbfe46b02"
      },
      "source": [
        "print(\"*\"*36)\n",
        "print(\"XGBoost Optimization\")\n",
        "XGB = XGBClassifier()\n",
        "param_dist = {\n",
        "    'max_depth': [0,5,10,15,20,25],\n",
        "    'n_estimators': [50, 100, 150, 200, 250],\n",
        "    'reg_alpha': [0.05, 0.1, 0.2, 0.5, 0.8, 0.9, 0.95, 1]\n",
        "}\n",
        "n_iter_search = 2\n",
        "randomsearchmethod(XGB,param_dist, n_iter_search, Train_X_Topic,Train_Y_Topic)"
      ],
      "execution_count": null,
      "outputs": [
        {
          "output_type": "stream",
          "text": [
            "************************************\n",
            "XGBoost Optimization\n",
            "Model with rank: 1\n",
            "Mean validation score: 0.937 (std: 0.005)\n",
            "Parameters: {'reg_alpha': 1, 'n_estimators': 250, 'max_depth': 5}\n",
            "\n",
            "Model with rank: 2\n",
            "Mean validation score: 0.532 (std: 0.000)\n",
            "Parameters: {'reg_alpha': 0.2, 'n_estimators': 200, 'max_depth': 0}\n",
            "\n"
          ],
          "name": "stdout"
        }
      ]
    },
    {
      "cell_type": "markdown",
      "metadata": {
        "id": "fDHCeRV-qjzH"
      },
      "source": [
        "### Topic Data Saving Fitted Models"
      ]
    },
    {
      "cell_type": "code",
      "metadata": {
        "id": "KbH429CC_Ag-"
      },
      "source": [
        "TopicADA = AdaBoostClassifier(n_estimators= 350, learning_rate= 0.1, base_estimator= DecisionTreeClassifier(class_weight=None, criterion='gini', max_depth=2,)).fit(Train_X_Topic,Train_Y_Topic)\n",
        "\n",
        "pkl_filename = \"TopicTFIDFADA.pkl\"\n",
        "with open(pkl_filename, 'wb') as file:\n",
        "    pickle.dump(TopicADA, file)"
      ],
      "execution_count": null,
      "outputs": []
    },
    {
      "cell_type": "code",
      "metadata": {
        "id": "Vfhr9De6TT1Q"
      },
      "source": [
        "# replace ngram_range = (1,2) for bigram\n",
        "TopicNB = MultinomialNB().fit(Train_X_Topic,Train_Y_Topic)\n",
        "\n",
        "TopicSGD = SGDClassifier(loss='log', penalty= 'elasticnet', l1_ratio= 0.1, alpha= 0.0001, n_iter_no_change=5).fit(Train_X_Topic,Train_Y_Topic)\n",
        "\n",
        "TopicADA = AdaBoostClassifier(n_estimators= 350, learning_rate= 0.1, base_estimator= DecisionTreeClassifier(class_weight=None, criterion='gini', max_depth=2,)).fit(Train_X_Topic,Train_Y_Topic)\n",
        "\n",
        "TopicRF = RandomForestClassifier(n_estimators=140, max_depth=40, random_state=0).fit(Train_X_Topic,Train_Y_Topic)\n",
        "\n",
        "TopicXGB = XGBClassifier(n_estimators = 120, max_depth=10, reg_alpha=0.8).fit(Train_X_Topic,Train_Y_Topic)\n",
        "\n",
        "# Save to file in the current working directory\n",
        "pkl_filename = \"TopicTFIDFNB.pkl\"\n",
        "with open(pkl_filename, 'wb') as file:\n",
        "    pickle.dump(TopicNB, file)\n",
        "\n",
        "pkl_filename = \"TopicTFIDFSGD.pkl\"\n",
        "with open(pkl_filename, 'wb') as file:\n",
        "    pickle.dump(TopicSGD, file)\n",
        "\n",
        "pkl_filename = \"TopicTFIDFADA.pkl\"\n",
        "with open(pkl_filename, 'wb') as file:\n",
        "    pickle.dump(TopicADA, file)\n",
        "\n",
        "pkl_filename = \"TopicTFIDFRF.pkl\"\n",
        "with open(pkl_filename, 'wb') as file:\n",
        "    pickle.dump(TopicRF, file)\n",
        "\n",
        "pkl_filename = \"TopicTFIDFXGB.pkl\"\n",
        "with open(pkl_filename, 'wb') as file:\n",
        "    pickle.dump(TopicXGB, file)"
      ],
      "execution_count": null,
      "outputs": []
    },
    {
      "cell_type": "markdown",
      "metadata": {
        "id": "qfI7o7gXKPxt"
      },
      "source": [
        "### Topic Data Accuracy Report"
      ]
    },
    {
      "cell_type": "code",
      "metadata": {
        "colab": {
          "base_uri": "https://localhost:8080/"
        },
        "id": "BilFKnoG8S3j",
        "outputId": "346969da-efe6-4320-8cfd-80e044b4ed91"
      },
      "source": [
        "# Load from file\n",
        "pkl_filename = \"TopicTFIDFNB.pkl\"\n",
        "with open(pkl_filename, 'rb') as file:\n",
        "    TopicNB = pickle.load(file)\n",
        "\n",
        "# Load from file\n",
        "pkl_filename = \"TopicTFIDFSGD.pkl\"\n",
        "with open(pkl_filename, 'rb') as file:\n",
        "    TopicSGD = pickle.load(file)\n",
        "\n",
        "# Load from file\n",
        "pkl_filename = \"TopicTFIDFADA.pkl\"\n",
        "with open(pkl_filename, 'rb') as file:\n",
        "    TopicADA = pickle.load(file)\n",
        "\n",
        "# Load from file\n",
        "pkl_filename = \"TopicTFIDFRF.pkl\"\n",
        "with open(pkl_filename, 'rb') as file:\n",
        "    TopicRF = pickle.load(file)\n",
        "\n",
        "# Load from file\n",
        "pkl_filename = \"TopicTFIDFXGB.pkl\"\n",
        "with open(pkl_filename, 'rb') as file:\n",
        "    TopicXGB = pickle.load(file)\n",
        "\n",
        "predictions_NB = TopicNB.predict(Test_X_Topic)\n",
        "# Use accuracy_score function to get the accuracy\n",
        "print(\"****NB Report****\")\n",
        "print(\"MultinomialNB Accuracy:\",metrics.accuracy_score(Test_Y_Topic, predictions_NB))\n",
        "print('\\nClasification report:\\n', classification_report(Test_Y_Topic, predictions_NB))\n",
        "print('\\nConfussion matrix:\\n',confusion_matrix(Test_Y_Topic, predictions_NB)  )\n",
        "print()\n",
        "print(\"*\"*36)\n",
        "\n",
        "\n",
        "# predict the labels on validation dataset\n",
        "predictions_SGD = TopicSGD.predict(Test_X_Topic)\n",
        "# Use accuracy_score function to get the accuracy\n",
        "print(\"****SGD Report****\")\n",
        "print(\"SGD Accuracy:\",metrics.accuracy_score(Test_Y_Topic, predictions_SGD))\n",
        "print('\\nClasification report:\\n', classification_report(Test_Y_Topic, predictions_SGD))\n",
        "print('\\nConfussion matrix:\\n',confusion_matrix(Test_Y_Topic, predictions_SGD))\n",
        "print()\n",
        "print(\"*\"*36)\n",
        "\n",
        "\n",
        "predictions_ADA = TopicADA.predict(Test_X_Topic)\n",
        "# Use accuracy_score function to get the accuracy\n",
        "print(\"****ADABoost Report****\")\n",
        "print(\"AdaBoostClassifier Accuracy:\",metrics.accuracy_score(Test_Y_Topic, predictions_ADA))\n",
        "print('\\nClasification report:\\n', classification_report(Test_Y_Topic, predictions_ADA))\n",
        "print('\\nConfussion matrix:\\n',confusion_matrix(Test_Y_Topic, predictions_ADA) )\n",
        "print()\n",
        "print(\"*\"*36)\n",
        "\n",
        "\n",
        "predictions_RF = TopicRF.predict(Test_X_Topic)\n",
        "# Use accuracy_score function to get the accuracy\n",
        "print(\"****RF Report****\")\n",
        "print(\"RandomForest Accuracy:\",metrics.accuracy_score(Test_Y_Topic, predictions_RF))\n",
        "print('\\nClasification report:\\n', classification_report(Test_Y_Topic, predictions_RF))\n",
        "print('\\nConfussion matrix:\\n',confusion_matrix(Test_Y_Topic, predictions_RF)  )\n",
        "print()\n",
        "print(\"*\"*36)\n",
        "\n",
        "\n",
        "predictions_XGB = TopicXGB.predict(Test_X_Topic)\n",
        "# Use accuracy_score function to get the accuracy\n",
        "print(\"****XGB Report****\")\n",
        "print(\"XGBoost Accuracy:\",metrics.accuracy_score(Test_Y_Topic, predictions_XGB))\n",
        "print('\\nClasification report:\\n', classification_report(Test_Y_Topic, predictions_XGB))\n",
        "print('\\nConfussion matrix:\\n',confusion_matrix(Test_Y_Topic, predictions_XGB)  )"
      ],
      "execution_count": null,
      "outputs": [
        {
          "output_type": "stream",
          "text": [
            "****NB Report****\n",
            "MultinomialNB Accuracy: 0.8802000635122261\n",
            "\n",
            "Clasification report:\n",
            "               precision    recall  f1-score   support\n",
            "\n",
            "           0       0.86      0.88      0.87      5893\n",
            "           1       0.89      0.88      0.89      6703\n",
            "\n",
            "    accuracy                           0.88     12596\n",
            "   macro avg       0.88      0.88      0.88     12596\n",
            "weighted avg       0.88      0.88      0.88     12596\n",
            "\n",
            "\n",
            "Confussion matrix:\n",
            " [[5200  693]\n",
            " [ 816 5887]]\n",
            "\n",
            "************************************\n",
            "****SGD Report****\n",
            "SGD Accuracy: 0.9270403302635757\n",
            "\n",
            "Clasification report:\n",
            "               precision    recall  f1-score   support\n",
            "\n",
            "           0       0.93      0.91      0.92      5893\n",
            "           1       0.92      0.94      0.93      6703\n",
            "\n",
            "    accuracy                           0.93     12596\n",
            "   macro avg       0.93      0.93      0.93     12596\n",
            "weighted avg       0.93      0.93      0.93     12596\n",
            "\n",
            "\n",
            "Confussion matrix:\n",
            " [[5379  514]\n",
            " [ 405 6298]]\n",
            "\n",
            "************************************\n",
            "****ADABoost Report****\n",
            "AdaBoostClassifier Accuracy: 0.9308510638297872\n",
            "\n",
            "Clasification report:\n",
            "               precision    recall  f1-score   support\n",
            "\n",
            "           0       0.93      0.92      0.93      5893\n",
            "           1       0.93      0.94      0.94      6703\n",
            "\n",
            "    accuracy                           0.93     12596\n",
            "   macro avg       0.93      0.93      0.93     12596\n",
            "weighted avg       0.93      0.93      0.93     12596\n",
            "\n",
            "\n",
            "Confussion matrix:\n",
            " [[5447  446]\n",
            " [ 425 6278]]\n",
            "\n",
            "************************************\n",
            "****RF Report****\n",
            "RandomForest Accuracy: 0.9229120355668466\n",
            "\n",
            "Clasification report:\n",
            "               precision    recall  f1-score   support\n",
            "\n",
            "           0       0.92      0.92      0.92      5893\n",
            "           1       0.93      0.93      0.93      6703\n",
            "\n",
            "    accuracy                           0.92     12596\n",
            "   macro avg       0.92      0.92      0.92     12596\n",
            "weighted avg       0.92      0.92      0.92     12596\n",
            "\n",
            "\n",
            "Confussion matrix:\n",
            " [[5407  486]\n",
            " [ 485 6218]]\n",
            "\n",
            "************************************\n",
            "****XGB Report****\n",
            "XGBoost Accuracy: 0.935693871070181\n",
            "\n",
            "Clasification report:\n",
            "               precision    recall  f1-score   support\n",
            "\n",
            "           0       0.93      0.94      0.93      5893\n",
            "           1       0.94      0.94      0.94      6703\n",
            "\n",
            "    accuracy                           0.94     12596\n",
            "   macro avg       0.94      0.94      0.94     12596\n",
            "weighted avg       0.94      0.94      0.94     12596\n",
            "\n",
            "\n",
            "Confussion matrix:\n",
            " [[5518  375]\n",
            " [ 435 6268]]\n"
          ],
          "name": "stdout"
        }
      ]
    },
    {
      "cell_type": "markdown",
      "metadata": {
        "id": "71J7-DKG0Aic"
      },
      "source": [
        "### Topic Model ROC Comparison"
      ]
    },
    {
      "cell_type": "code",
      "metadata": {
        "colab": {
          "base_uri": "https://localhost:8080/",
          "height": 411
        },
        "id": "KGQWVHFP8UHC",
        "outputId": "037ce406-9faf-405a-8db3-89d98ac94b46"
      },
      "source": [
        "makeROC([TopicNB, TopicXGB, TopicRF, TopicADA, TopicSGD],\"TFIDF + Topic probabilities Real Vs Fake Performance\", Test_X_Topic, Test_Y_Topic)"
      ],
      "execution_count": null,
      "outputs": [
        {
          "output_type": "display_data",
          "data": {
            "image/png": "[encoded data removed]",
            "text/plain": [
              "<Figure size 576x432 with 1 Axes>"
            ]
          },
          "metadata": {
            "tags": [],
            "needs_background": "light"
          }
        }
      ]
    },
    {
      "cell_type": "markdown",
      "metadata": {
        "id": "lfDwDenSHxEc"
      },
      "source": [
        "## Sentiment Data Classification"
      ]
    },
    {
      "cell_type": "markdown",
      "metadata": {
        "id": "3Ta9sYoxH-QD"
      },
      "source": [
        "### Sentiment Data Optimization"
      ]
    },
    {
      "cell_type": "code",
      "metadata": {
        "colab": {
          "base_uri": "https://localhost:8080/"
        },
        "id": "TMubZKhFIcx2",
        "outputId": "1675283d-c199-4bb6-e43e-b39d0c3056b9"
      },
      "source": [
        "print(\"*\"*36)\n",
        "print(\"SGD Optimization\")\n",
        "SGD = SGDClassifier(loss='log', penalty='l2', alpha=1e-3, n_iter_no_change=5)\n",
        "param_dist = {\n",
        "    'penalty': ['elasticnet','l2'],\n",
        "    'alpha': [10 ** x for x in range(-6, 1)],\n",
        "    'l1_ratio': [0, 0.05, 0.1, 0.2, 0.5, 0.8, 0.9, 0.95, 1],\n",
        "}\n",
        "n_iter_search = 20\n",
        "randomsearchmethod(SGD,param_dist, n_iter_search, Train_X_Emotion,Train_Y_Emotion)"
      ],
      "execution_count": null,
      "outputs": [
        {
          "output_type": "stream",
          "text": [
            "************************************\n",
            "SGD Optimization\n",
            "Model with rank: 1\n",
            "Mean validation score: 0.721 (std: 0.036)\n",
            "Parameters: {'penalty': 'elasticnet', 'l1_ratio': 0.9, 'alpha': 0.0001}\n",
            "\n",
            "Model with rank: 2\n",
            "Mean validation score: 0.706 (std: 0.022)\n",
            "Parameters: {'penalty': 'elasticnet', 'l1_ratio': 0.1, 'alpha': 0.1}\n",
            "\n",
            "Model with rank: 3\n",
            "Mean validation score: 0.693 (std: 0.040)\n",
            "Parameters: {'penalty': 'elasticnet', 'l1_ratio': 0.8, 'alpha': 0.001}\n",
            "\n"
          ],
          "name": "stdout"
        }
      ]
    },
    {
      "cell_type": "code",
      "metadata": {
        "colab": {
          "base_uri": "https://localhost:8080/"
        },
        "id": "Pf6zT6rT5WVt",
        "outputId": "d06bb5d3-d0e2-4df4-9587-314108abb8de"
      },
      "source": [
        "print(\"*\"*36)\n",
        "print(\"ADABoost Optimization\")\n",
        "ADA = AdaBoostClassifier()\n",
        "param_dist = {\n",
        "    'learning_rate' : [0.05, 0.1, 0.2, 0.5, 0.8, 0.9, 0.95, 1],\n",
        "    'n_estimators': [100,200,300,400],\n",
        "    'base_estimator': [DecisionTreeClassifier(random_state=0, max_depth=1), DecisionTreeClassifier(random_state=0, max_depth=2),DecisionTreeClassifier(random_state=0, max_depth=3)]\n",
        "}\n",
        "n_iter_search = 20\n",
        "randomsearchmethod(ADA,param_dist, n_iter_search, Train_X_Emotion,Train_Y_Emotion)"
      ],
      "execution_count": null,
      "outputs": [
        {
          "output_type": "stream",
          "text": [
            "************************************\n",
            "ADABoost Optimization\n",
            "Model with rank: 1\n",
            "Mean validation score: 0.790 (std: 0.013)\n",
            "Parameters: {'n_estimators': 400, 'learning_rate': 0.1, 'base_estimator': DecisionTreeClassifier(ccp_alpha=0.0, class_weight=None, criterion='gini',\n",
            "                       max_depth=2, max_features=None, max_leaf_nodes=None,\n",
            "                       min_impurity_decrease=0.0, min_impurity_split=None,\n",
            "                       min_samples_leaf=1, min_samples_split=2,\n",
            "                       min_weight_fraction_leaf=0.0, presort='deprecated',\n",
            "                       random_state=0, splitter='best')}\n",
            "\n",
            "Model with rank: 2\n",
            "Mean validation score: 0.789 (std: 0.012)\n",
            "Parameters: {'n_estimators': 300, 'learning_rate': 0.2, 'base_estimator': DecisionTreeClassifier(ccp_alpha=0.0, class_weight=None, criterion='gini',\n",
            "                       max_depth=2, max_features=None, max_leaf_nodes=None,\n",
            "                       min_impurity_decrease=0.0, min_impurity_split=None,\n",
            "                       min_samples_leaf=1, min_samples_split=2,\n",
            "                       min_weight_fraction_leaf=0.0, presort='deprecated',\n",
            "                       random_state=0, splitter='best')}\n",
            "\n",
            "Model with rank: 3\n",
            "Mean validation score: 0.788 (std: 0.011)\n",
            "Parameters: {'n_estimators': 400, 'learning_rate': 0.05, 'base_estimator': DecisionTreeClassifier(ccp_alpha=0.0, class_weight=None, criterion='gini',\n",
            "                       max_depth=3, max_features=None, max_leaf_nodes=None,\n",
            "                       min_impurity_decrease=0.0, min_impurity_split=None,\n",
            "                       min_samples_leaf=1, min_samples_split=2,\n",
            "                       min_weight_fraction_leaf=0.0, presort='deprecated',\n",
            "                       random_state=0, splitter='best')}\n",
            "\n"
          ],
          "name": "stdout"
        }
      ]
    },
    {
      "cell_type": "code",
      "metadata": {
        "colab": {
          "base_uri": "https://localhost:8080/"
        },
        "id": "J-UgYwB95X5x",
        "outputId": "101a3c05-09a5-4476-d1b4-a7ff628c6fb6"
      },
      "source": [
        "print(\"*\"*36)\n",
        "print(\"Random Forest Optimization\")\n",
        "RF = RandomForestClassifier()\n",
        "param_dist = {\n",
        "    'max_depth': [5,10,15,20,25,30,35,40],\n",
        "    'n_estimators': [70,80,85,90,100,110,120,130,140]\n",
        "}\n",
        "n_iter_search = 20\n",
        "randomsearchmethod(RF,param_dist, n_iter_search, Train_X_Emotion,Train_Y_Emotion)"
      ],
      "execution_count": null,
      "outputs": [
        {
          "output_type": "stream",
          "text": [
            "************************************\n",
            "Random Forest Optimization\n",
            "Model with rank: 1\n",
            "Mean validation score: 0.795 (std: 0.005)\n",
            "Parameters: {'n_estimators': 130, 'max_depth': 25}\n",
            "\n",
            "Model with rank: 2\n",
            "Mean validation score: 0.794 (std: 0.011)\n",
            "Parameters: {'n_estimators': 130, 'max_depth': 30}\n",
            "\n",
            "Model with rank: 3\n",
            "Mean validation score: 0.793 (std: 0.010)\n",
            "Parameters: {'n_estimators': 110, 'max_depth': 35}\n",
            "\n"
          ],
          "name": "stdout"
        }
      ]
    },
    {
      "cell_type": "code",
      "metadata": {
        "colab": {
          "base_uri": "https://localhost:8080/"
        },
        "id": "dUK7uan95ZLZ",
        "outputId": "c899f11a-edd7-4c33-a32a-76bef96cf0b0"
      },
      "source": [
        "print(\"*\"*36)\n",
        "print(\"XGBoost Optimization\")\n",
        "XGB = XGBClassifier()\n",
        "param_dist = {\n",
        "    'max_depth': [0,5,10,15,20,25],\n",
        "    'n_estimators': [50, 100, 150, 200, 250],\n",
        "    'reg_alpha': [0.05, 0.1, 0.2, 0.5, 0.8, 0.9, 0.95, 1]\n",
        "}\n",
        "n_iter_search = 20\n",
        "randomsearchmethod(XGB,param_dist, n_iter_search, Train_X_Emotion,Train_Y_Emotion)"
      ],
      "execution_count": null,
      "outputs": [
        {
          "output_type": "stream",
          "text": [
            "************************************\n",
            "XGBoost Optimization\n",
            "Model with rank: 1\n",
            "Mean validation score: 0.799 (std: 0.007)\n",
            "Parameters: {'reg_alpha': 0.05, 'n_estimators': 150, 'max_depth': 20}\n",
            "\n",
            "Model with rank: 2\n",
            "Mean validation score: 0.798 (std: 0.008)\n",
            "Parameters: {'reg_alpha': 0.2, 'n_estimators': 250, 'max_depth': 20}\n",
            "\n",
            "Model with rank: 3\n",
            "Mean validation score: 0.798 (std: 0.008)\n",
            "Parameters: {'reg_alpha': 0.95, 'n_estimators': 250, 'max_depth': 20}\n",
            "\n"
          ],
          "name": "stdout"
        }
      ]
    },
    {
      "cell_type": "markdown",
      "metadata": {
        "id": "hlVRjzdwqe3X"
      },
      "source": [
        "### Sentiment Data Saving Fitted Models"
      ]
    },
    {
      "cell_type": "code",
      "metadata": {
        "id": "f6Yzt5J_UyNb"
      },
      "source": [
        "# replace ngram_range = (1,2) for bigram\n",
        "EmotionNB = MultinomialNB().fit(Train_X_Emotion,Train_Y_Emotion)\n",
        "\n",
        "EmotionSGD = SGDClassifier(loss='log', penalty= 'elasticnet', l1_ratio= 0.8, alpha= 1e-05, n_iter_no_change=5).fit(Train_X_Emotion,Train_Y_Emotion)\n",
        "\n",
        "EmotionADA = AdaBoostClassifier(n_estimators= 400, learning_rate= 0.1, base_estimator= DecisionTreeClassifier(class_weight=None, criterion='gini', max_depth=2,)).fit(Train_X_Emotion,Train_Y_Emotion)\n",
        "\n",
        "EmotionRF = RandomForestClassifier(n_estimators=130, max_depth=40, random_state=0).fit(Train_X_Emotion,Train_Y_Emotion)\n",
        "\n",
        "EmotionXGB = XGBClassifier(n_estimators = 250, max_depth=20, reg_alpha=0.05).fit(Train_X_Emotion,Train_Y_Emotion)\n",
        "\n",
        "# Save to file in the current working directory\n",
        "pkl_filename = \"EmotionNB.pkl\"\n",
        "with open(pkl_filename, 'wb') as file:\n",
        "    pickle.dump(EmotionNB, file)\n",
        "\n",
        "pkl_filename = \"EmotionSGD.pkl\"\n",
        "with open(pkl_filename, 'wb') as file:\n",
        "    pickle.dump(EmotionSGD, file)\n",
        "\n",
        "pkl_filename = \"EmotionADA.pkl\"\n",
        "with open(pkl_filename, 'wb') as file:\n",
        "    pickle.dump(EmotionADA, file)\n",
        "\n",
        "pkl_filename = \"EmotionRF.pkl\"\n",
        "with open(pkl_filename, 'wb') as file:\n",
        "    pickle.dump(EmotionRF, file)\n",
        "\n",
        "pkl_filename = \"EmotionXGB.pkl\"\n",
        "with open(pkl_filename, 'wb') as file:\n",
        "    pickle.dump(EmotionXGB, file)"
      ],
      "execution_count": null,
      "outputs": []
    },
    {
      "cell_type": "markdown",
      "metadata": {
        "id": "DtffnU-rKEs2"
      },
      "source": [
        "### Sentiment Data Accuracy Report"
      ]
    },
    {
      "cell_type": "code",
      "metadata": {
        "colab": {
          "base_uri": "https://localhost:8080/"
        },
        "id": "TzXI6KFhKDGK",
        "outputId": "ccab9c59-cadc-43d5-811d-b5d08d5b14e2"
      },
      "source": [
        "# Load from file\n",
        "pkl_filename = \"EmotionNB.pkl\"\n",
        "with open(pkl_filename, 'rb') as file:\n",
        "    EmotionNB = pickle.load(file)\n",
        "\n",
        "# Load from file\n",
        "pkl_filename = \"EmotionSGD.pkl\"\n",
        "with open(pkl_filename, 'rb') as file:\n",
        "    EmotionSGD = pickle.load(file)\n",
        "\n",
        "# Load from file\n",
        "pkl_filename = \"EmotionADA.pkl\"\n",
        "with open(pkl_filename, 'rb') as file:\n",
        "    EmotionADA = pickle.load(file)\n",
        "\n",
        "# Load from file\n",
        "pkl_filename = \"EmotionRF.pkl\"\n",
        "with open(pkl_filename, 'rb') as file:\n",
        "    EmotionRF = pickle.load(file)\n",
        "\n",
        "# Load from file\n",
        "pkl_filename = \"EmotionXGB.pkl\"\n",
        "with open(pkl_filename, 'rb') as file:\n",
        "    EmotionXGB = pickle.load(file)\n",
        "\n",
        "predictions_NB = EmotionNB.predict(Test_X_Emotion)\n",
        "# Use accuracy_score function to get the accuracy\n",
        "print(\"****NB Report****\")\n",
        "print(\"MultinomialNB Accuracy:\",metrics.accuracy_score(Test_Y_Emotion, predictions_NB))\n",
        "print('\\nClasification report:\\n', classification_report(Test_Y_Emotion, predictions_NB))\n",
        "print('\\nConfussion matrix:\\n',confusion_matrix(Test_Y_Emotion, predictions_NB)  )\n",
        "print()\n",
        "print(\"*\"*36)\n",
        "\n",
        "\n",
        "# predict the labels on validation dataset\n",
        "predictions_SGD = EmotionSGD.predict(Test_X_Emotion)\n",
        "# Use accuracy_score function to get the accuracy\n",
        "print(\"****SGD Report****\")\n",
        "print(\"SGD Accuracy:\",metrics.accuracy_score(Test_Y_Emotion, predictions_SGD))\n",
        "print('\\nClasification report:\\n', classification_report(Test_Y_Emotion, predictions_SGD))\n",
        "print('\\nConfussion matrix:\\n',confusion_matrix(Test_Y_Emotion, predictions_SGD))\n",
        "print()\n",
        "print(\"*\"*36)\n",
        "\n",
        "\n",
        "predictions_ADA = EmotionADA.predict(Test_X_Emotion)\n",
        "# Use accuracy_score function to get the accuracy\n",
        "print(\"****ADABoost Report****\")\n",
        "print(\"AdaBoostClassifier Accuracy:\",metrics.accuracy_score(Test_Y_Emotion, predictions_ADA))\n",
        "print('\\nClasification report:\\n', classification_report(Test_Y_Emotion, predictions_ADA))\n",
        "print('\\nConfussion matrix:\\n',confusion_matrix(Test_Y_Emotion, predictions_ADA) )\n",
        "print()\n",
        "print(\"*\"*36)\n",
        "\n",
        "\n",
        "predictions_RF = EmotionRF.predict(Test_X_Emotion)\n",
        "# Use accuracy_score function to get the accuracy\n",
        "print(\"****RF Report****\")\n",
        "print(\"RandomForest Accuracy:\",metrics.accuracy_score(Test_Y_Emotion, predictions_RF))\n",
        "print('\\nClasification report:\\n', classification_report(Test_Y_Emotion, predictions_RF))\n",
        "print('\\nConfussion matrix:\\n',confusion_matrix(Test_Y_Emotion, predictions_RF)  )\n",
        "print()\n",
        "print(\"*\"*36)\n",
        "\n",
        "\n",
        "predictions_XGB = EmotionXGB.predict(Test_X_Emotion)\n",
        "# Use accuracy_score function to get the accuracy\n",
        "print(\"****XGB Report****\")\n",
        "print(\"XGBoost Accuracy:\",metrics.accuracy_score(Test_Y_Emotion, predictions_XGB))\n",
        "print('\\nClasification report:\\n', classification_report(Test_Y_Emotion, predictions_XGB))\n",
        "print('\\nConfussion matrix:\\n',confusion_matrix(Test_Y_Emotion, predictions_XGB)  )"
      ],
      "execution_count": null,
      "outputs": [
        {
          "output_type": "stream",
          "text": [
            "****NB Report****\n",
            "MultinomialNB Accuracy: 0.7137980311209908\n",
            "\n",
            "Clasification report:\n",
            "               precision    recall  f1-score   support\n",
            "\n",
            "           0       0.67      0.75      0.71      5893\n",
            "           1       0.76      0.68      0.72      6703\n",
            "\n",
            "    accuracy                           0.71     12596\n",
            "   macro avg       0.72      0.72      0.71     12596\n",
            "weighted avg       0.72      0.71      0.71     12596\n",
            "\n",
            "\n",
            "Confussion matrix:\n",
            " [[4438 1455]\n",
            " [2150 4553]]\n",
            "\n",
            "************************************\n",
            "****SGD Report****\n",
            "SGD Accuracy: 0.6201174976182915\n",
            "\n",
            "Clasification report:\n",
            "               precision    recall  f1-score   support\n",
            "\n",
            "           0       0.55      0.97      0.70      5893\n",
            "           1       0.91      0.32      0.47      6703\n",
            "\n",
            "    accuracy                           0.62     12596\n",
            "   macro avg       0.73      0.64      0.59     12596\n",
            "weighted avg       0.74      0.62      0.58     12596\n",
            "\n",
            "\n",
            "Confussion matrix:\n",
            " [[5689  204]\n",
            " [4581 2122]]\n",
            "\n",
            "************************************\n",
            "****ADABoost Report****\n",
            "AdaBoostClassifier Accuracy: 0.7826294061606859\n",
            "\n",
            "Clasification report:\n",
            "               precision    recall  f1-score   support\n",
            "\n",
            "           0       0.78      0.75      0.76      5893\n",
            "           1       0.79      0.81      0.80      6703\n",
            "\n",
            "    accuracy                           0.78     12596\n",
            "   macro avg       0.78      0.78      0.78     12596\n",
            "weighted avg       0.78      0.78      0.78     12596\n",
            "\n",
            "\n",
            "Confussion matrix:\n",
            " [[4432 1461]\n",
            " [1277 5426]]\n",
            "\n",
            "************************************\n",
            "****RF Report****\n",
            "RandomForest Accuracy: 0.7906478247062559\n",
            "\n",
            "Clasification report:\n",
            "               precision    recall  f1-score   support\n",
            "\n",
            "           0       0.79      0.76      0.77      5893\n",
            "           1       0.79      0.82      0.81      6703\n",
            "\n",
            "    accuracy                           0.79     12596\n",
            "   macro avg       0.79      0.79      0.79     12596\n",
            "weighted avg       0.79      0.79      0.79     12596\n",
            "\n",
            "\n",
            "Confussion matrix:\n",
            " [[4466 1427]\n",
            " [1210 5493]]\n",
            "\n",
            "************************************\n",
            "****XGB Report****\n",
            "XGBoost Accuracy: 0.7941409971419499\n",
            "\n",
            "Clasification report:\n",
            "               precision    recall  f1-score   support\n",
            "\n",
            "           0       0.78      0.78      0.78      5893\n",
            "           1       0.80      0.81      0.81      6703\n",
            "\n",
            "    accuracy                           0.79     12596\n",
            "   macro avg       0.79      0.79      0.79     12596\n",
            "weighted avg       0.79      0.79      0.79     12596\n",
            "\n",
            "\n",
            "Confussion matrix:\n",
            " [[4575 1318]\n",
            " [1275 5428]]\n"
          ],
          "name": "stdout"
        }
      ]
    },
    {
      "cell_type": "markdown",
      "metadata": {
        "id": "9wvSWRse8tJ3"
      },
      "source": [
        "### Sentiment, POS, and Entity ROC Comparison"
      ]
    },
    {
      "cell_type": "code",
      "metadata": {
        "colab": {
          "base_uri": "https://localhost:8080/",
          "height": 411
        },
        "id": "W0wVH2EEWCng",
        "outputId": "a2b147fc-8ef3-4041-ae1c-20ab87005e8c"
      },
      "source": [
        "makeROC([ EmotionNB, EmotionXGB, EmotionRF, EmotionADA, EmotionSGD],\"Sentiment, POS, and Entity Real Vs Fake Performance\", Test_X_Emotion, Test_Y_Emotion)"
      ],
      "execution_count": null,
      "outputs": [
        {
          "output_type": "display_data",
          "data": {
            "image/png": "[encoded data removed]",
            "text/plain": [
              "<Figure size 576x432 with 1 Axes>"
            ]
          },
          "metadata": {
            "tags": []
          }
        }
      ]
    },
    {
      "cell_type": "markdown",
      "metadata": {
        "id": "G27B60T5iam3"
      },
      "source": [
        "### Generalized Model Feature Importance"
      ]
    },
    {
      "cell_type": "code",
      "metadata": {
        "id": "jBS-hu3BifeL"
      },
      "source": [
        "# Load from file\n",
        "pkl_filename = \"EmotionADA.pkl\"\n",
        "with open(pkl_filename, 'rb') as file:\n",
        "    EmotionADA = pickle.load(file)\n",
        "\n",
        "# Load from file\n",
        "pkl_filename = \"EmotionXGB.pkl\"\n",
        "with open(pkl_filename, 'rb') as file:\n",
        "    EmotionXGB = pickle.load(file)\n",
        "    \n",
        "# Load from file\n",
        "pkl_filename = \"EmotionRF.pkl\"\n",
        "with open(pkl_filename, 'rb') as file:\n",
        "    EmotionRF = pickle.load(file)"
      ],
      "execution_count": null,
      "outputs": []
    },
    {
      "cell_type": "code",
      "metadata": {
        "colab": {
          "base_uri": "https://localhost:8080/",
          "height": 808
        },
        "id": "YCCCq3KZ1rLi",
        "outputId": "c1c27cd7-6453-4608-d7cf-14900c0f64fe"
      },
      "source": [
        "import matplotlib.pyplot as pyplot\n",
        "featurenames = EmotionXGB.get_booster().feature_names\n",
        "\n",
        "pyplot.barh(range(len(EmotionADA.feature_importances_)), EmotionADA.feature_importances_)\n",
        "plt.yticks(range(len(featurenames)), featurenames)\n",
        "plt.title('ADABoost Feature Importance')\n",
        "pyplot.show()\n",
        "\n",
        "pyplot.barh(range(len(EmotionRF.feature_importances_)), EmotionRF.feature_importances_)\n",
        "plt.yticks(range(len(featurenames)), featurenames)\n",
        "plt.title('Random Forest Feature Importance')\n",
        "pyplot.show()\n",
        "\n",
        "pyplot.barh(range(len(EmotionXGB.feature_importances_)), EmotionXGB.feature_importances_)\n",
        "plt.yticks(range(len(featurenames)), featurenames)\n",
        "plt.title('XGBoost Feature Importance')\n",
        "pyplot.show()"
      ],
      "execution_count": null,
      "outputs": [
        {
          "output_type": "display_data",
          "data": {
            "image/png": "[encoded data removed]",
            "text/plain": [
              "<Figure size 432x288 with 1 Axes>"
            ]
          },
          "metadata": {
            "tags": [],
            "needs_background": "light"
          }
        },
        {
          "output_type": "display_data",
          "data": {
            "image/png": "[encoded data removed]",
            "text/plain": [
              "<Figure size 432x288 with 1 Axes>"
            ]
          },
          "metadata": {
            "tags": [],
            "needs_background": "light"
          }
        },
        {
          "output_type": "display_data",
          "data": {
            "image/png": "[encoded data removed]",
            "text/plain": [
              "<Figure size 432x288 with 1 Axes>"
            ]
          },
          "metadata": {
            "tags": [],
            "needs_background": "light"
          }
        }
      ]
    },
    {
      "cell_type": "markdown",
      "metadata": {
        "id": "KdQDSRu566Ko"
      },
      "source": [
        "## TFIDF Classification on extracted Dataset"
      ]
    },
    {
      "cell_type": "markdown",
      "metadata": {
        "id": "SFgYIeHM_jWU"
      },
      "source": [
        "### TFIDF Extract Accuracy Report"
      ]
    },
    {
      "cell_type": "code",
      "metadata": {
        "id": "gCpIcrF1XHeb"
      },
      "source": [
        "# replace ngram_range = (1,2) for bigram\n",
        "TFIDFNB = MultinomialNB().fit(Train_X,Train_Y)\n",
        "\n",
        "TFIDFSGD = SGDClassifier(loss='log', penalty= 'l2', l1_ratio= 0.05, alpha= 1e-05, n_iter_no_change=5).fit(Train_X,Train_Y)\n",
        "\n",
        "TFIDFADA = AdaBoostClassifier(n_estimators= 300, learning_rate= 0.2, base_estimator= DecisionTreeClassifier(class_weight=None, criterion='gini', max_depth=2,)).fit(Train_X,Train_Y)\n",
        "\n",
        "TFIDFRF = RandomForestClassifier(n_estimators=100, max_depth=25, random_state=0).fit(Train_X,Train_Y)\n",
        "\n",
        "TFIDFXGB = XGBClassifier(n_estimators = 200, max_depth=15, reg_alpha=0.05).fit(Train_X,Train_Y)\n",
        "\n",
        "# Save to file in the current working directory\n",
        "pkl_filename = \"BaseExtractTFIDFNB.pkl\"\n",
        "with open(pkl_filename, 'wb') as file:\n",
        "    pickle.dump(TFIDFNB, file)\n",
        "\n",
        "pkl_filename = \"BaseExtractTFIDFSGD.pkl\"\n",
        "with open(pkl_filename, 'wb') as file:\n",
        "    pickle.dump(TFIDFSGD, file)\n",
        "\n",
        "pkl_filename = \"BaseExtractTFIDFADA.pkl\"\n",
        "with open(pkl_filename, 'wb') as file:\n",
        "    pickle.dump(TFIDFADA, file)\n",
        "\n",
        "pkl_filename = \"BaseExtractTFIDFRF.pkl\"\n",
        "with open(pkl_filename, 'wb') as file:\n",
        "    pickle.dump(TFIDFRF, file)\n",
        "\n",
        "pkl_filename = \"BaseExtractTFIDFXGB.pkl\"\n",
        "with open(pkl_filename, 'wb') as file:\n",
        "    pickle.dump(TFIDFXGB, file)"
      ],
      "execution_count": null,
      "outputs": []
    },
    {
      "cell_type": "code",
      "metadata": {
        "colab": {
          "base_uri": "https://localhost:8080/"
        },
        "id": "vp_25Zt1YQJg",
        "outputId": "a70f302a-68e9-4e95-e16e-24c93a1662db"
      },
      "source": [
        "# Load from file\n",
        "pkl_filename = \"BaseExtractTFIDFNB.pkl\"\n",
        "with open(pkl_filename, 'rb') as file:\n",
        "    TFIDFNB = pickle.load(file)\n",
        "\n",
        "# Load from file\n",
        "pkl_filename = \"BaseExtractTFIDFSGD.pkl\"\n",
        "with open(pkl_filename, 'rb') as file:\n",
        "    TFIDFSGD = pickle.load(file)\n",
        "\n",
        "# Load from file\n",
        "pkl_filename = \"BaseExtractTFIDFADA.pkl\"\n",
        "with open(pkl_filename, 'rb') as file:\n",
        "    TFIDFADA = pickle.load(file)\n",
        "\n",
        "# Load from file\n",
        "pkl_filename = \"BaseExtractTFIDFRF.pkl\"\n",
        "with open(pkl_filename, 'rb') as file:\n",
        "    TFIDFRF = pickle.load(file)\n",
        "\n",
        "# Load from file\n",
        "pkl_filename = \"BaseExtractTFIDFXGB.pkl\"\n",
        "with open(pkl_filename, 'rb') as file:\n",
        "    TFIDFXGB = pickle.load(file)\n",
        "\n",
        "# replace ngram_range = (1,2) for bigram\n",
        "predictions_NB = TFIDFNB.predict(Test_X)\n",
        "# Use accuracy_score function to get the accuracy\n",
        "print(\"****NB Report****\")\n",
        "print(\"MultinomialNB Accuracy:\",metrics.accuracy_score(Test_Y, predictions_NB))\n",
        "print('\\nClasification report:\\n', classification_report(Test_Y, predictions_NB))\n",
        "print('\\nConfussion matrix:\\n',confusion_matrix(Test_Y, predictions_NB)  )\n",
        "print()\n",
        "print(\"*\"*36)\n",
        "\n",
        "\n",
        "# predict the labels on validation dataset\n",
        "predictions_SGD = TFIDFSGD.predict(Test_X)\n",
        "# Use accuracy_score function to get the accuracy\n",
        "print(\"****SGD Report****\")\n",
        "print(\"SGD Accuracy:\",metrics.accuracy_score(Test_Y, predictions_SGD))\n",
        "print('\\nClasification report:\\n', classification_report(Test_Y, predictions_SGD))\n",
        "print('\\nConfussion matrix:\\n',confusion_matrix(Test_Y, predictions_SGD))\n",
        "print()\n",
        "print(\"*\"*36)\n",
        "\n",
        "\n",
        "predictions_ADA = TFIDFADA.predict(Test_X)\n",
        "# Use accuracy_score function to get the accuracy\n",
        "print(\"****ADABoost Report****\")\n",
        "print(\"AdaBoostClassifier Accuracy:\",metrics.accuracy_score(Test_Y, predictions_ADA))\n",
        "print('\\nClasification report:\\n', classification_report(Test_Y, predictions_ADA))\n",
        "print('\\nConfussion matrix:\\n',confusion_matrix(Test_Y, predictions_ADA) )\n",
        "print()\n",
        "print(\"*\"*36)\n",
        "\n",
        "\n",
        "predictions_RF = TFIDFRF.predict(Test_X)\n",
        "# Use accuracy_score function to get the accuracy\n",
        "print(\"****RF Report****\")\n",
        "print(\"RandomForest Accuracy:\",metrics.accuracy_score(Test_Y, predictions_RF))\n",
        "print('\\nClasification report:\\n', classification_report(Test_Y, predictions_RF))\n",
        "print('\\nConfussion matrix:\\n',confusion_matrix(Test_Y, predictions_RF)  )\n",
        "print()\n",
        "print(\"*\"*36)\n",
        "\n",
        "\n",
        "predictions_XGB = TFIDFXGB.predict(Test_X)\n",
        "# Use accuracy_score function to get the accuracy\n",
        "print(\"****XGB Report****\")\n",
        "print(\"XGBoost Accuracy:\",metrics.accuracy_score(Test_Y, predictions_XGB))\n",
        "print('\\nClasification report:\\n', classification_report(Test_Y, predictions_XGB))\n",
        "print('\\nConfussion matrix:\\n',confusion_matrix(Test_Y, predictions_XGB)  )"
      ],
      "execution_count": null,
      "outputs": [
        {
          "output_type": "stream",
          "text": [
            "****NB Report****\n",
            "MultinomialNB Accuracy: 0.8819466497300731\n",
            "\n",
            "Clasification report:\n",
            "               precision    recall  f1-score   support\n",
            "\n",
            "           0       0.87      0.88      0.88      5893\n",
            "           1       0.90      0.88      0.89      6703\n",
            "\n",
            "    accuracy                           0.88     12596\n",
            "   macro avg       0.88      0.88      0.88     12596\n",
            "weighted avg       0.88      0.88      0.88     12596\n",
            "\n",
            "\n",
            "Confussion matrix:\n",
            " [[5211  682]\n",
            " [ 805 5898]]\n",
            "\n",
            "************************************\n",
            "****SGD Report****\n",
            "SGD Accuracy: 0.9279930136551287\n",
            "\n",
            "Clasification report:\n",
            "               precision    recall  f1-score   support\n",
            "\n",
            "           0       0.91      0.94      0.92      5893\n",
            "           1       0.94      0.92      0.93      6703\n",
            "\n",
            "    accuracy                           0.93     12596\n",
            "   macro avg       0.93      0.93      0.93     12596\n",
            "weighted avg       0.93      0.93      0.93     12596\n",
            "\n",
            "\n",
            "Confussion matrix:\n",
            " [[5524  369]\n",
            " [ 538 6165]]\n",
            "\n",
            "************************************\n",
            "****ADABoost Report****\n",
            "AdaBoostClassifier Accuracy: 0.9308510638297872\n",
            "\n",
            "Clasification report:\n",
            "               precision    recall  f1-score   support\n",
            "\n",
            "           0       0.93      0.92      0.93      5893\n",
            "           1       0.93      0.94      0.94      6703\n",
            "\n",
            "    accuracy                           0.93     12596\n",
            "   macro avg       0.93      0.93      0.93     12596\n",
            "weighted avg       0.93      0.93      0.93     12596\n",
            "\n",
            "\n",
            "Confussion matrix:\n",
            " [[5446  447]\n",
            " [ 424 6279]]\n",
            "\n",
            "************************************\n",
            "****RF Report****\n",
            "RandomForest Accuracy: 0.9205303270879645\n",
            "\n",
            "Clasification report:\n",
            "               precision    recall  f1-score   support\n",
            "\n",
            "           0       0.92      0.91      0.91      5893\n",
            "           1       0.92      0.93      0.93      6703\n",
            "\n",
            "    accuracy                           0.92     12596\n",
            "   macro avg       0.92      0.92      0.92     12596\n",
            "weighted avg       0.92      0.92      0.92     12596\n",
            "\n",
            "\n",
            "Confussion matrix:\n",
            " [[5357  536]\n",
            " [ 465 6238]]\n",
            "\n",
            "************************************\n",
            "****XGB Report****\n",
            "XGBoost Accuracy: 0.9329152111781518\n",
            "\n",
            "Clasification report:\n",
            "               precision    recall  f1-score   support\n",
            "\n",
            "           0       0.93      0.93      0.93      5893\n",
            "           1       0.94      0.94      0.94      6703\n",
            "\n",
            "    accuracy                           0.93     12596\n",
            "   macro avg       0.93      0.93      0.93     12596\n",
            "weighted avg       0.93      0.93      0.93     12596\n",
            "\n",
            "\n",
            "Confussion matrix:\n",
            " [[5471  422]\n",
            " [ 423 6280]]\n"
          ],
          "name": "stdout"
        }
      ]
    },
    {
      "cell_type": "markdown",
      "metadata": {
        "id": "32cnOtoi_nqX"
      },
      "source": [
        "### TFIDF Extract Model ROC Comparison"
      ]
    },
    {
      "cell_type": "code",
      "metadata": {
        "colab": {
          "base_uri": "https://localhost:8080/",
          "height": 443
        },
        "id": "MfCguyEPYYQL",
        "outputId": "7da10dab-0777-4bed-9cf0-9706b23709e4"
      },
      "source": [
        "print()\n",
        "print(\"*\"*36)\n",
        "\n",
        "makeROC([TFIDFNB, TFIDFXGB, TFIDFRF, TFIDFADA, TFIDFSGD],\"TFIDF extract Real Vs Fake Performance\", Test_X, Test_Y)"
      ],
      "execution_count": null,
      "outputs": [
        {
          "output_type": "stream",
          "text": [
            "\n",
            "************************************\n"
          ],
          "name": "stdout"
        },
        {
          "output_type": "display_data",
          "data": {
            "image/png": "[encoded data removed]",
            "text/plain": [
              "<Figure size 576x432 with 1 Axes>"
            ]
          },
          "metadata": {
            "tags": []
          }
        }
      ]
    },
    {
      "cell_type": "markdown",
      "metadata": {
        "id": "97wZ3CSEdLTm"
      },
      "source": [
        "## Complete combined classification"
      ]
    },
    {
      "cell_type": "code",
      "metadata": {
        "id": "2l4MMcpsdTtX"
      },
      "source": [
        "dftopiccleaned = dftopic.drop(['neg'], axis = 1)\n",
        "dfoverall = pd.concat([dftopiccleaned, dfemotion], axis=1)\n",
        "\n",
        "#In case any columns are duplicated\n",
        "#dfoverall = dfoverall.loc[:,~dfoverall.columns.duplicated()]\n",
        "\n",
        "Train_X_overall, Test_X_overall, Train_Y_overall, Test_Y_overall = model_selection.train_test_split(dfoverall,save_y,train_size= 0.4, stratify=save_y, random_state=0)"
      ],
      "execution_count": null,
      "outputs": []
    },
    {
      "cell_type": "markdown",
      "metadata": {
        "id": "iB7SM4ACqPyD"
      },
      "source": [
        "### Complete Data Optimization"
      ]
    },
    {
      "cell_type": "code",
      "metadata": {
        "colab": {
          "background_save": true,
          "base_uri": "https://localhost:8080/"
        },
        "id": "XI10XXhqdtIS",
        "outputId": "3d904422-4f0f-4afa-eb2b-85713978c30a"
      },
      "source": [
        "print(\"*\"*36)\n",
        "print(\"SGD Optimization\")\n",
        "SGD = SGDClassifier(loss='log', penalty='l2', alpha=1e-3, n_iter_no_change=5)\n",
        "param_dist = {\n",
        "    'penalty': ['elasticnet','l2'],\n",
        "    'alpha': [10 ** x for x in range(-6, 1)],\n",
        "    'l1_ratio': [0, 0.05, 0.1, 0.2, 0.5, 0.8, 0.9, 0.95, 1],\n",
        "}\n",
        "n_iter_search = 20\n",
        "randomsearchmethod(SGD,param_dist, n_iter_search, Train_X_overall,Train_Y_overall)\n"
      ],
      "execution_count": null,
      "outputs": [
        {
          "output_type": "stream",
          "text": [
            "************************************\n",
            "SGD Optimization\n",
            "Model with rank: 1\n",
            "Mean validation score: 0.842 (std: 0.020)\n",
            "Parameters: {'penalty': 'elasticnet', 'l1_ratio': 1, 'alpha': 0.001}\n",
            "\n",
            "Model with rank: 2\n",
            "Mean validation score: 0.753 (std: 0.066)\n",
            "Parameters: {'penalty': 'elasticnet', 'l1_ratio': 0.9, 'alpha': 0.001}\n",
            "\n",
            "Model with rank: 3\n",
            "Mean validation score: 0.722 (std: 0.077)\n",
            "Parameters: {'penalty': 'elasticnet', 'l1_ratio': 0.9, 'alpha': 1e-05}\n",
            "\n"
          ],
          "name": "stdout"
        }
      ]
    },
    {
      "cell_type": "code",
      "metadata": {
        "colab": {
          "background_save": true
        },
        "id": "7LrrZFK9dvvQ",
        "outputId": "9faf9539-43a6-4221-90c1-ae97dcd9b65b"
      },
      "source": [
        "print(\"*\"*36)\n",
        "print(\"ADABoost Optimization\")\n",
        "ADA = AdaBoostClassifier()\n",
        "param_dist = {\n",
        "    'learning_rate' : [0.05, 0.1, 0.2, 0.5],\n",
        "    'n_estimators': [100,200,300,400],\n",
        "    'base_estimator': [DecisionTreeClassifier(random_state=0, max_depth=2),DecisionTreeClassifier(random_state=0, max_depth=3)]\n",
        "}\n",
        "n_iter_search = 2\n",
        "randomsearchmethod(ADA,param_dist, n_iter_search, Train_X_overall,Train_Y_overall)"
      ],
      "execution_count": null,
      "outputs": [
        {
          "output_type": "stream",
          "text": [
            "************************************\n",
            "ADABoost Optimization\n",
            "Model with rank: 1\n",
            "Mean validation score: 0.927 (std: 0.006)\n",
            "Parameters: {'n_estimators': 100, 'learning_rate': 0.2, 'base_estimator': DecisionTreeClassifier(ccp_alpha=0.0, class_weight=None, criterion='gini',\n",
            "                       max_depth=2, max_features=None, max_leaf_nodes=None,\n",
            "                       min_impurity_decrease=0.0, min_impurity_split=None,\n",
            "                       min_samples_leaf=1, min_samples_split=2,\n",
            "                       min_weight_fraction_leaf=0.0, presort='deprecated',\n",
            "                       random_state=0, splitter='best')}\n",
            "\n",
            "Model with rank: 2\n",
            "Mean validation score: 0.927 (std: 0.006)\n",
            "Parameters: {'n_estimators': 300, 'learning_rate': 0.2, 'base_estimator': DecisionTreeClassifier(ccp_alpha=0.0, class_weight=None, criterion='gini',\n",
            "                       max_depth=3, max_features=None, max_leaf_nodes=None,\n",
            "                       min_impurity_decrease=0.0, min_impurity_split=None,\n",
            "                       min_samples_leaf=1, min_samples_split=2,\n",
            "                       min_weight_fraction_leaf=0.0, presort='deprecated',\n",
            "                       random_state=0, splitter='best')}\n",
            "\n"
          ],
          "name": "stdout"
        }
      ]
    },
    {
      "cell_type": "code",
      "metadata": {
        "colab": {
          "background_save": true
        },
        "id": "QVSREvb_dyXj",
        "outputId": "148d945d-e8df-4a35-ac07-c3996259faed"
      },
      "source": [
        "#Restart this one it ran on emotion\n",
        "print(\"*\"*36)\n",
        "print(\"Random Forest Optimization\")\n",
        "RF = RandomForestClassifier()\n",
        "param_dist = {\n",
        "    'max_depth': [30,35,40],\n",
        "    'n_estimators': [110,120,130,140]\n",
        "}\n",
        "n_iter_search = 20\n",
        "randomsearchmethod(RF,param_dist, n_iter_search, Train_X_overall,Train_Y_overall)"
      ],
      "execution_count": null,
      "outputs": [
        {
          "output_type": "stream",
          "text": [
            "************************************\n",
            "Random Forest Optimization\n"
          ],
          "name": "stdout"
        },
        {
          "output_type": "stream",
          "text": [
            "/usr/local/lib/python3.7/dist-packages/sklearn/model_selection/_search.py:281: UserWarning: The total space of parameters 12 is smaller than n_iter=20. Running 12 iterations. For exhaustive searches, use GridSearchCV.\n",
            "  % (grid_size, self.n_iter, grid_size), UserWarning)\n"
          ],
          "name": "stderr"
        },
        {
          "output_type": "stream",
          "text": [
            "Model with rank: 1\n",
            "Mean validation score: 0.925 (std: 0.007)\n",
            "Parameters: {'n_estimators': 140, 'max_depth': 30}\n",
            "\n",
            "Model with rank: 2\n",
            "Mean validation score: 0.925 (std: 0.007)\n",
            "Parameters: {'n_estimators': 110, 'max_depth': 40}\n",
            "\n",
            "Model with rank: 3\n",
            "Mean validation score: 0.925 (std: 0.006)\n",
            "Parameters: {'n_estimators': 140, 'max_depth': 40}\n",
            "\n"
          ],
          "name": "stdout"
        }
      ]
    },
    {
      "cell_type": "code",
      "metadata": {
        "colab": {
          "background_save": true,
          "base_uri": "https://localhost:8080/"
        },
        "id": "Q9WniljCd1IU",
        "outputId": "42f541e1-2242-445b-e1d2-f54371330b93"
      },
      "source": [
        "print(\"*\"*36)\n",
        "print(\"XGBoost Optimization\")\n",
        "XGB = XGBClassifier()\n",
        "param_dist = {\n",
        "    'max_depth': [15,20,25],\n",
        "    'n_estimators': [ 150, 200, 250],\n",
        "    'reg_alpha': [0.05, 0.1, 0.2, 0.5]\n",
        "}\n",
        "n_iter_search = 2\n",
        "randomsearchmethod(XGB,param_dist, n_iter_search, Train_X_overall,Train_Y_overall)"
      ],
      "execution_count": null,
      "outputs": [
        {
          "output_type": "stream",
          "text": [
            "************************************\n",
            "XGBoost Optimization\n",
            "Model with rank: 1\n",
            "Mean validation score: 0.937 (std: 0.006)\n",
            "Parameters: {'reg_alpha': 0.1, 'n_estimators': 150, 'max_depth': 25}\n",
            "\n",
            "Model with rank: 2\n",
            "Mean validation score: 0.937 (std: 0.005)\n",
            "Parameters: {'reg_alpha': 0.5, 'n_estimators': 150, 'max_depth': 25}\n",
            "\n"
          ],
          "name": "stdout"
        }
      ]
    },
    {
      "cell_type": "markdown",
      "metadata": {
        "id": "5Z-UXkDfqwlf"
      },
      "source": [
        "### Complete Data Saving Fitted Models"
      ]
    },
    {
      "cell_type": "code",
      "metadata": {
        "id": "8xec9SOkqrxg"
      },
      "source": [
        "# replace ngram_range = (1,2) for bigram\n",
        "OverallNB = MultinomialNB().fit(Train_X_Topic,Train_Y_Topic)\n",
        "\n",
        "OverallSGD = SGDClassifier(loss='log', penalty= 'elasticnet', l1_ratio= 0.1, alpha= 0.0001, n_iter_no_change=5).fit(Train_X_overall,Train_Y_overall)\n",
        "\n",
        "OverallADA = AdaBoostClassifier(n_estimators= 300, learning_rate= 0.1, base_estimator= DecisionTreeClassifier(class_weight=None, criterion='gini', max_depth=2,)).fit(Train_X_overall,Train_Y_overall)\n",
        "\n",
        "OverallRF = RandomForestClassifier(n_estimators=140, max_depth=30, random_state=0).fit(Train_X_overall,Train_Y_overall)\n",
        "\n",
        "OverallXGB = XGBClassifier(n_estimators = 200, max_depth=25, reg_alpha=0.1).fit(Train_X_overall,Train_Y_overall)\n",
        "\n",
        "# Save to file in the current working directory\n",
        "pkl_filename = \"OverallNB.pkl\"\n",
        "with open(pkl_filename, 'wb') as file:\n",
        "    pickle.dump(OverallNB, file)\n",
        "\n",
        "pkl_filename = \"OverallSGD.pkl\"\n",
        "with open(pkl_filename, 'wb') as file:\n",
        "    pickle.dump(OverallSGD, file)\n",
        "\n",
        "pkl_filename = \"OverallADA.pkl\"\n",
        "with open(pkl_filename, 'wb') as file:\n",
        "    pickle.dump(OverallADA, file)\n",
        "\n",
        "pkl_filename = \"OverallRF.pkl\"\n",
        "with open(pkl_filename, 'wb') as file:\n",
        "    pickle.dump(OverallRF, file)\n",
        "\n",
        "pkl_filename = \"OverallXGB.pkl\"\n",
        "with open(pkl_filename, 'wb') as file:\n",
        "    pickle.dump(OverallXGB, file)"
      ],
      "execution_count": null,
      "outputs": []
    },
    {
      "cell_type": "markdown",
      "metadata": {
        "id": "n6D3vbRKqU-D"
      },
      "source": [
        "### Complete Data Accuracy Report"
      ]
    },
    {
      "cell_type": "code",
      "metadata": {
        "id": "muwkMMtuqsYA",
        "colab": {
          "base_uri": "https://localhost:8080/"
        },
        "outputId": "397ad677-ee66-4312-c506-18c08895724e"
      },
      "source": [
        "# Load from file\n",
        "pkl_filename = \"OverallNB.pkl\"\n",
        "with open(pkl_filename, 'rb') as file:\n",
        "    OverallNB = pickle.load(file)\n",
        "\n",
        "# Load from file\n",
        "pkl_filename = \"OverallSGD.pkl\"\n",
        "with open(pkl_filename, 'rb') as file:\n",
        "    OverallSGD = pickle.load(file)\n",
        "\n",
        "# Load from file\n",
        "pkl_filename = \"OverallADA.pkl\"\n",
        "with open(pkl_filename, 'rb') as file:\n",
        "    OverallADA = pickle.load(file)\n",
        "\n",
        "# Load from file\n",
        "pkl_filename = \"OverallRF.pkl\"\n",
        "with open(pkl_filename, 'rb') as file:\n",
        "    OverallRF = pickle.load(file)\n",
        "\n",
        "# Load from file\n",
        "pkl_filename = \"OverallXGB.pkl\"\n",
        "with open(pkl_filename, 'rb') as file:\n",
        "    OverallXGB = pickle.load(file)\n",
        "\n",
        "predictions_NB = OverallNB.predict(Test_X_overall)\n",
        "# Use accuracy_score function to get the accuracy\n",
        "print(\"****NB Report****\")\n",
        "print(\"MultinomialNB Accuracy:\",metrics.accuracy_score(Test_Y_overall, predictions_NB))\n",
        "print('\\nClasification report:\\n', classification_report(Test_Y_overall, predictions_NB))\n",
        "print('\\nConfussion matrix:\\n',confusion_matrix(Test_Y_overall, predictions_NB)  )\n",
        "print()\n",
        "print(\"*\"*36)\n",
        "\n",
        "\n",
        "# predict the labels on validation dataset\n",
        "predictions_SGD = OverallSGD.predict(Test_X_overall)\n",
        "# Use accuracy_score function to get the accuracy\n",
        "print(\"****SGD Report****\")\n",
        "print(\"SGD Accuracy:\",metrics.accuracy_score(Test_Y_overall, predictions_SGD))\n",
        "print('\\nClasification report:\\n', classification_report(Test_Y_overall, predictions_SGD))\n",
        "print('\\nConfussion matrix:\\n',confusion_matrix(Test_Y_overall, predictions_SGD))\n",
        "print()\n",
        "print(\"*\"*36)\n",
        "\n",
        "\n",
        "predictions_ADA = OverallADA.predict(Test_X_overall)\n",
        "# Use accuracy_score function to get the accuracy\n",
        "print(\"****ADABoost Report****\")\n",
        "print(\"AdaBoostClassifier Accuracy:\",metrics.accuracy_score(Test_Y_overall, predictions_ADA))\n",
        "print('\\nClasification report:\\n', classification_report(Test_Y_overall, predictions_ADA))\n",
        "print('\\nConfussion matrix:\\n',confusion_matrix(Test_Y_overall, predictions_ADA) )\n",
        "print()\n",
        "print(\"*\"*36)\n",
        "\n",
        "\n",
        "predictions_RF = OverallRF.predict(Test_X_overall)\n",
        "# Use accuracy_score function to get the accuracy\n",
        "print(\"****RF Report****\")\n",
        "print(\"RandomForest Accuracy:\",metrics.accuracy_score(Test_Y_overall, predictions_RF))\n",
        "print('\\nClasification report:\\n', classification_report(Test_Y_overall, predictions_RF))\n",
        "print('\\nConfussion matrix:\\n',confusion_matrix(Test_Y_overall, predictions_RF)  )\n",
        "print()\n",
        "print(\"*\"*36)\n",
        "\n",
        "\n",
        "predictions_XGB = OverallXGB.predict(Test_X_overall)\n",
        "# Use accuracy_score function to get the accuracy\n",
        "print(\"****XGB Report****\")\n",
        "print(\"XGBoost Accuracy:\",metrics.accuracy_score(Test_Y_overall, predictions_XGB))\n",
        "print('\\nClasification report:\\n', classification_report(Test_Y_overall, predictions_XGB))\n",
        "print('\\nConfussion matrix:\\n',confusion_matrix(Test_Y_overall, predictions_XGB)  )"
      ],
      "execution_count": null,
      "outputs": [
        {
          "output_type": "stream",
          "text": [
            "****NB Report****\n",
            "MultinomialNB Accuracy: 0.8335979676087647\n",
            "\n",
            "Clasification report:\n",
            "               precision    recall  f1-score   support\n",
            "\n",
            "           0       0.79      0.87      0.83      5893\n",
            "           1       0.87      0.80      0.84      6703\n",
            "\n",
            "    accuracy                           0.83     12596\n",
            "   macro avg       0.83      0.84      0.83     12596\n",
            "weighted avg       0.84      0.83      0.83     12596\n",
            "\n",
            "\n",
            "Confussion matrix:\n",
            " [[5117  776]\n",
            " [1320 5383]]\n",
            "\n",
            "************************************\n",
            "****SGD Report****\n",
            "SGD Accuracy: 0.776595744680851\n",
            "\n",
            "Clasification report:\n",
            "               precision    recall  f1-score   support\n",
            "\n",
            "           0       0.82      0.66      0.74      5893\n",
            "           1       0.75      0.88      0.81      6703\n",
            "\n",
            "    accuracy                           0.78     12596\n",
            "   macro avg       0.79      0.77      0.77     12596\n",
            "weighted avg       0.78      0.78      0.77     12596\n",
            "\n",
            "\n",
            "Confussion matrix:\n",
            " [[3915 1978]\n",
            " [ 836 5867]]\n",
            "\n",
            "************************************\n",
            "****ADABoost Report****\n",
            "AdaBoostClassifier Accuracy: 0.9333915528739283\n",
            "\n",
            "Clasification report:\n",
            "               precision    recall  f1-score   support\n",
            "\n",
            "           0       0.93      0.93      0.93      5893\n",
            "           1       0.94      0.94      0.94      6703\n",
            "\n",
            "    accuracy                           0.93     12596\n",
            "   macro avg       0.93      0.93      0.93     12596\n",
            "weighted avg       0.93      0.93      0.93     12596\n",
            "\n",
            "\n",
            "Confussion matrix:\n",
            " [[5468  425]\n",
            " [ 414 6289]]\n",
            "\n",
            "************************************\n",
            "****RF Report****\n",
            "RandomForest Accuracy: 0.9213242299142584\n",
            "\n",
            "Clasification report:\n",
            "               precision    recall  f1-score   support\n",
            "\n",
            "           0       0.92      0.91      0.92      5893\n",
            "           1       0.92      0.93      0.93      6703\n",
            "\n",
            "    accuracy                           0.92     12596\n",
            "   macro avg       0.92      0.92      0.92     12596\n",
            "weighted avg       0.92      0.92      0.92     12596\n",
            "\n",
            "\n",
            "Confussion matrix:\n",
            " [[5383  510]\n",
            " [ 481 6222]]\n",
            "\n",
            "************************************\n",
            "****XGB Report****\n",
            "XGBoost Accuracy: 0.9392664337885043\n",
            "\n",
            "Clasification report:\n",
            "               precision    recall  f1-score   support\n",
            "\n",
            "           0       0.93      0.94      0.94      5893\n",
            "           1       0.95      0.94      0.94      6703\n",
            "\n",
            "    accuracy                           0.94     12596\n",
            "   macro avg       0.94      0.94      0.94     12596\n",
            "weighted avg       0.94      0.94      0.94     12596\n",
            "\n",
            "\n",
            "Confussion matrix:\n",
            " [[5544  349]\n",
            " [ 416 6287]]\n"
          ],
          "name": "stdout"
        }
      ]
    },
    {
      "cell_type": "markdown",
      "metadata": {
        "id": "BMkti6o3sScH"
      },
      "source": [
        "### Overall ROC Comparison"
      ]
    },
    {
      "cell_type": "code",
      "metadata": {
        "id": "pLpmG-dQsWcz",
        "colab": {
          "base_uri": "https://localhost:8080/",
          "height": 445
        },
        "outputId": "ef1d9fca-474d-4699-e287-385380215f7f"
      },
      "source": [
        "print()\n",
        "print(\"*\"*36)\n",
        "\n",
        "makeROC([OverallNB, OverallXGB, OverallRF, OverallADA, OverallSGD],\"TFIDF extract Real Vs Fake Performance\", Test_X_overall, Test_Y_overall)"
      ],
      "execution_count": null,
      "outputs": [
        {
          "output_type": "stream",
          "text": [
            "\n",
            "************************************\n"
          ],
          "name": "stdout"
        },
        {
          "output_type": "display_data",
          "data": {
            "image/png": "[encoded data removed]",
            "text/plain": [
              "<Figure size 576x432 with 1 Axes>"
            ]
          },
          "metadata": {
            "tags": [],
            "needs_background": "light"
          }
        }
      ]
    },
    {
      "cell_type": "markdown",
      "metadata": {
        "id": "pOogdMcHOpeY"
      },
      "source": [
        "# Testing classifiers on Alternate Domains"
      ]
    },
    {
      "cell_type": "code",
      "metadata": {
        "id": "wg1GxySpQ3qb"
      },
      "source": [
        "#create Sentiment dataset\n",
        "dfemotionEntertainment = pd.read_excel(\"sample_data/Entertainment text + Sentiment Data.xlsx\")\n",
        "dfEntertainment = dfemotionEntertainment['text_x']\n",
        "dfEntertainmentY = dfemotionEntertainment['label_y']\n",
        "dfemotionEntertainment = dfemotionEntertainment.drop(['text_x','title_x','Unnamed: 0','index','label_y',':','(',')','group_c','PRP','NNP','group_m'], axis=1)\n",
        "\n",
        "#Split text set to 20k rows from original extract\n",
        "Train_X_Entertainment, Test_X_Entertainment, Train_Y_Entertainment, Test_Y_Entertainment = model_selection.train_test_split(df['text'],df['label'],train_size= 0.45, stratify=df['label'], random_state=0)\n",
        "\n",
        "#TFIDF Vectorize New Sample Set with trained vectorizer from old domain extract\n",
        "fulllist = []\n",
        "for i in Train_X_Entertainment:\n",
        "    fulllist.append(i)\n",
        "\n",
        "Tfidf_vect = TfidfVectorizer(max_features=5000)\n",
        "Tfidf_vect.fit(fulllist)\n",
        "AlternateTrain_X_Tfidf = Tfidf_vect.transform(dfEntertainment)\n",
        "\n",
        "#Convert to dataframe\n",
        "Entertainment_Train_X_df = pd.DataFrame(AlternateTrain_X_Tfidf.toarray(), columns=Tfidf_vect.get_feature_names())\n",
        "\n",
        "#Create Topic Entertainment DF\n",
        "dftopicEntertainment = pd.read_excel(\"sample_data/topic_distribution_14_entertainment.xlsx\")\n",
        "dftopicEntertainment = dftopicEntertainment.drop(['Unnamed: 0','Text'], axis=1)\n",
        "dftopicEntertainment = pd.concat([dftopicEntertainment, Entertainment_Train_X_df], axis=1)\n",
        "\n",
        "#Create Overall Entertainment Dataset\n",
        "Entertainmentdftopiccleaned = dftopicEntertainment.drop(['neg'], axis = 1)\n",
        "dfoverallEntertainment = pd.concat([Entertainmentdftopiccleaned, dfemotionEntertainment], axis=1)"
      ],
      "execution_count": null,
      "outputs": []
    },
    {
      "cell_type": "markdown",
      "metadata": {
        "id": "ZCllxrqHOuDt"
      },
      "source": [
        "## Topic Model Loading and prediction"
      ]
    },
    {
      "cell_type": "code",
      "metadata": {
        "id": "yY8uqcA1l3dw"
      },
      "source": [
        "# Load from file\n",
        "pkl_filename = \"TopicTFIDFNB.pkl\"\n",
        "with open(pkl_filename, 'rb') as file:\n",
        "    TopicNB = pickle.load(file)\n",
        "\n",
        "# Load from file\n",
        "pkl_filename = \"TopicTFIDFSGD.pkl\"\n",
        "with open(pkl_filename, 'rb') as file:\n",
        "    TopicSGD = pickle.load(file)\n",
        "\n",
        "# Load from file\n",
        "pkl_filename = \"TopicTFIDFADA.pkl\"\n",
        "with open(pkl_filename, 'rb') as file:\n",
        "    TopicADA = pickle.load(file)\n",
        "\n",
        "# Load from file\n",
        "pkl_filename = \"TopicTFIDFRF.pkl\"\n",
        "with open(pkl_filename, 'rb') as file:\n",
        "    TopicRF = pickle.load(file)\n",
        "\n",
        "# Load from file\n",
        "pkl_filename = \"TopicTFIDFXGB.pkl\"\n",
        "with open(pkl_filename, 'rb') as file:\n",
        "    TopicXGB = pickle.load(file)"
      ],
      "execution_count": null,
      "outputs": []
    },
    {
      "cell_type": "code",
      "metadata": {
        "colab": {
          "base_uri": "https://localhost:8080/"
        },
        "id": "TL1V4UufIhMU",
        "outputId": "5093d48c-07ea-4789-ebec-82b1b9f405e1"
      },
      "source": [
        "# replace ngram_range = (1,2) for bigram\n",
        "predictions_NB = TopicNB.predict(dftopicEntertainment)\n",
        "# Use accuracy_score function to get the accuracy\n",
        "print(\"****NB Report****\")\n",
        "print(\"MultinomialNB Accuracy:\",metrics.accuracy_score(dfEntertainmentY, predictions_NB))\n",
        "print('\\nClasification report:\\n', classification_report(dfEntertainmentY, predictions_NB))\n",
        "print('\\nConfussion matrix:\\n',confusion_matrix(dfEntertainmentY, predictions_NB)  )\n",
        "print()\n",
        "print(\"*\"*36)\n",
        "\n",
        "# predict the labels on validation dataset\n",
        "predictions_SGD = TopicSGD.predict(dftopicEntertainment)\n",
        "# Use accuracy_score function to get the accuracy\n",
        "print(\"****SGD Report****\")\n",
        "print(\"SGD Accuracy:\",metrics.accuracy_score(dfEntertainmentY, predictions_SGD))\n",
        "print('\\nClasification report:\\n', classification_report(dfEntertainmentY, predictions_SGD))\n",
        "print('\\nConfussion matrix:\\n',confusion_matrix(dfEntertainmentY, predictions_SGD))\n",
        "print()\n",
        "print(\"*\"*36)\n",
        "\n",
        "\n",
        "predictions_ADA = TopicADA.predict(dftopicEntertainment)\n",
        "# Use accuracy_score function to get the accuracy\n",
        "print(\"****ADABoost Report****\")\n",
        "print(\"AdaBoostClassifier Accuracy:\",metrics.accuracy_score(dfEntertainmentY, predictions_ADA))\n",
        "print('\\nClasification report:\\n', classification_report(dfEntertainmentY, predictions_ADA))\n",
        "print('\\nConfussion matrix:\\n',confusion_matrix(dfEntertainmentY, predictions_ADA) )\n",
        "print()\n",
        "print(\"*\"*36)\n",
        "\n",
        "\n",
        "predictions_RF = TopicRF.predict(dftopicEntertainment)\n",
        "# Use accuracy_score function to get the accuracy\n",
        "print(\"****RF Report****\")\n",
        "print(\"RandomForest Accuracy:\",metrics.accuracy_score(dfEntertainmentY, predictions_RF))\n",
        "print('\\nClasification report:\\n', classification_report(dfEntertainmentY, predictions_RF))\n",
        "print('\\nConfussion matrix:\\n',confusion_matrix(dfEntertainmentY, predictions_RF)  )\n",
        "print()\n",
        "print(\"*\"*36)\n",
        "\n",
        "\n",
        "predictions_XGB = TopicXGB.predict(dftopicEntertainment)\n",
        "# Use accuracy_score function to get the accuracy\n",
        "print(\"****XGB Report****\")\n",
        "print(\"XGBoost Accuracy:\",metrics.accuracy_score(dfEntertainmentY, predictions_XGB))\n",
        "print('\\nClasification report:\\n', classification_report(dfEntertainmentY, predictions_XGB))\n",
        "print('\\nConfussion matrix:\\n',confusion_matrix(dfEntertainmentY, predictions_XGB)  )"
      ],
      "execution_count": null,
      "outputs": [
        {
          "output_type": "stream",
          "text": [
            "****NB Report****\n",
            "MultinomialNB Accuracy: 0.6\n",
            "\n",
            "Clasification report:\n",
            "               precision    recall  f1-score   support\n",
            "\n",
            "           0       0.56      0.90      0.69        50\n",
            "           1       0.75      0.30      0.43        50\n",
            "\n",
            "    accuracy                           0.60       100\n",
            "   macro avg       0.66      0.60      0.56       100\n",
            "weighted avg       0.66      0.60      0.56       100\n",
            "\n",
            "\n",
            "Confussion matrix:\n",
            " [[45  5]\n",
            " [35 15]]\n",
            "\n",
            "************************************\n",
            "****SGD Report****\n",
            "SGD Accuracy: 0.65\n",
            "\n",
            "Clasification report:\n",
            "               precision    recall  f1-score   support\n",
            "\n",
            "           0       0.60      0.92      0.72        50\n",
            "           1       0.83      0.38      0.52        50\n",
            "\n",
            "    accuracy                           0.65       100\n",
            "   macro avg       0.71      0.65      0.62       100\n",
            "weighted avg       0.71      0.65      0.62       100\n",
            "\n",
            "\n",
            "Confussion matrix:\n",
            " [[46  4]\n",
            " [31 19]]\n",
            "\n",
            "************************************\n",
            "****ADABoost Report****\n",
            "AdaBoostClassifier Accuracy: 0.63\n",
            "\n",
            "Clasification report:\n",
            "               precision    recall  f1-score   support\n",
            "\n",
            "           0       0.59      0.84      0.69        50\n",
            "           1       0.72      0.42      0.53        50\n",
            "\n",
            "    accuracy                           0.63       100\n",
            "   macro avg       0.66      0.63      0.61       100\n",
            "weighted avg       0.66      0.63      0.61       100\n",
            "\n",
            "\n",
            "Confussion matrix:\n",
            " [[42  8]\n",
            " [29 21]]\n",
            "\n",
            "************************************\n",
            "****RF Report****\n",
            "RandomForest Accuracy: 0.64\n",
            "\n",
            "Clasification report:\n",
            "               precision    recall  f1-score   support\n",
            "\n",
            "           0       0.59      0.90      0.71        50\n",
            "           1       0.79      0.38      0.51        50\n",
            "\n",
            "    accuracy                           0.64       100\n",
            "   macro avg       0.69      0.64      0.61       100\n",
            "weighted avg       0.69      0.64      0.61       100\n",
            "\n",
            "\n",
            "Confussion matrix:\n",
            " [[45  5]\n",
            " [31 19]]\n",
            "\n",
            "************************************\n",
            "****XGB Report****\n",
            "XGBoost Accuracy: 0.63\n",
            "\n",
            "Clasification report:\n",
            "               precision    recall  f1-score   support\n",
            "\n",
            "           0       0.59      0.88      0.70        50\n",
            "           1       0.76      0.38      0.51        50\n",
            "\n",
            "    accuracy                           0.63       100\n",
            "   macro avg       0.67      0.63      0.61       100\n",
            "weighted avg       0.67      0.63      0.61       100\n",
            "\n",
            "\n",
            "Confussion matrix:\n",
            " [[44  6]\n",
            " [31 19]]\n"
          ],
          "name": "stdout"
        }
      ]
    },
    {
      "cell_type": "code",
      "metadata": {
        "colab": {
          "base_uri": "https://localhost:8080/",
          "height": 411
        },
        "id": "7ExKSUcmJvrT",
        "outputId": "bd658449-f66c-44dd-e962-04113a52f8d5"
      },
      "source": [
        "makeROC([TopicNB, TopicXGB, TopicRF, TopicADA, TopicSGD],\"TFIDF + Topic probabilities Real Vs Fake Performance\",dftopicEntertainment, dfEntertainmentY)"
      ],
      "execution_count": null,
      "outputs": [
        {
          "output_type": "display_data",
          "data": {
            "image/png": "[encoded data removed]",
            "text/plain": [
              "<Figure size 576x432 with 1 Axes>"
            ]
          },
          "metadata": {
            "tags": [],
            "needs_background": "light"
          }
        }
      ]
    },
    {
      "cell_type": "markdown",
      "metadata": {
        "id": "VFSxvEi4PPej"
      },
      "source": [
        "## sentiment Model Loading and prediction"
      ]
    },
    {
      "cell_type": "code",
      "metadata": {
        "id": "OV-icoSLmCeU"
      },
      "source": [
        "# Load from file\n",
        "pkl_filename = \"EmotionNB.pkl\"\n",
        "with open(pkl_filename, 'rb') as file:\n",
        "    EmotionNB = pickle.load(file)\n",
        "\n",
        "# Load from file\n",
        "pkl_filename = \"EmotionSGD.pkl\"\n",
        "with open(pkl_filename, 'rb') as file:\n",
        "    EmotionSGD = pickle.load(file)\n",
        "\n",
        "# Load from file\n",
        "pkl_filename = \"EmotionADA.pkl\"\n",
        "with open(pkl_filename, 'rb') as file:\n",
        "    EmotionADA = pickle.load(file)\n",
        "\n",
        "# Load from file\n",
        "pkl_filename = \"EmotionRF.pkl\"\n",
        "with open(pkl_filename, 'rb') as file:\n",
        "    EmotionRF = pickle.load(file)\n",
        "\n",
        "# Load from file\n",
        "pkl_filename = \"EmotionXGB.pkl\"\n",
        "with open(pkl_filename, 'rb') as file:\n",
        "    EmotionXGB = pickle.load(file)"
      ],
      "execution_count": null,
      "outputs": []
    },
    {
      "cell_type": "code",
      "metadata": {
        "colab": {
          "base_uri": "https://localhost:8080/"
        },
        "id": "MpoScEYTJ3Tn",
        "outputId": "35f6af01-e976-4065-de5b-541f4a35b6d1"
      },
      "source": [
        "# replace ngram_range = (1,2) for bigram\n",
        "predictions_NB = EmotionNB.predict(dfemotionEntertainment)\n",
        "# Use accuracy_score function to get the accuracy\n",
        "print(\"****NB Report****\")\n",
        "print(\"MultinomialNB Accuracy:\",metrics.accuracy_score(dfEntertainmentY, predictions_NB))\n",
        "print('\\nClasification report:\\n', classification_report(dfEntertainmentY, predictions_NB))\n",
        "print('\\nConfussion matrix:\\n',confusion_matrix(dfEntertainmentY, predictions_NB)  )\n",
        "print()\n",
        "print(\"*\"*36)\n",
        "\n",
        "\n",
        "# predict the labels on validation dataset\n",
        "predictions_SGD = EmotionSGD.predict(dfemotionEntertainment)\n",
        "# Use accuracy_score function to get the accuracy\n",
        "print(\"****SGD Report****\")\n",
        "print(\"SGD Accuracy:\",metrics.accuracy_score(dfEntertainmentY, predictions_SGD))\n",
        "print('\\nClasification report:\\n', classification_report(dfEntertainmentY, predictions_SGD))\n",
        "print('\\nConfussion matrix:\\n',confusion_matrix(dfEntertainmentY, predictions_SGD))\n",
        "print()\n",
        "print(\"*\"*36)\n",
        "\n",
        "\n",
        "predictions_ADA = EmotionADA.predict(dfemotionEntertainment)\n",
        "# Use accuracy_score function to get the accuracy\n",
        "print(\"****ADABoost Report****\")\n",
        "print(\"AdaBoostClassifier Accuracy:\",metrics.accuracy_score(dfEntertainmentY, predictions_ADA))\n",
        "print('\\nClasification report:\\n', classification_report(dfEntertainmentY, predictions_ADA))\n",
        "print('\\nConfussion matrix:\\n',confusion_matrix(dfEntertainmentY, predictions_ADA) )\n",
        "print()\n",
        "print(\"*\"*36)\n",
        "\n",
        "\n",
        "predictions_RF = EmotionRF.predict(dfemotionEntertainment)\n",
        "# Use accuracy_score function to get the accuracy\n",
        "print(\"****RF Report****\")\n",
        "print(\"RandomForest Accuracy:\",metrics.accuracy_score(dfEntertainmentY, predictions_RF))\n",
        "print('\\nClasification report:\\n', classification_report(dfEntertainmentY, predictions_RF))\n",
        "print('\\nConfussion matrix:\\n',confusion_matrix(dfEntertainmentY, predictions_RF)  )\n",
        "print()\n",
        "print(\"*\"*36)\n",
        "\n",
        "\n",
        "predictions_XGB = EmotionXGB.predict(dfemotionEntertainment)\n",
        "# Use accuracy_score function to get the accuracy\n",
        "print(\"****XGB Report****\")\n",
        "print(\"XGBoost Accuracy:\",metrics.accuracy_score(dfEntertainmentY, predictions_XGB))\n",
        "print('\\nClasification report:\\n', classification_report(dfEntertainmentY, predictions_XGB))\n",
        "print('\\nConfussion matrix:\\n',confusion_matrix(dfEntertainmentY, predictions_XGB)  )"
      ],
      "execution_count": null,
      "outputs": [
        {
          "output_type": "stream",
          "text": [
            "****NB Report****\n",
            "MultinomialNB Accuracy: 0.57\n",
            "\n",
            "Clasification report:\n",
            "               precision    recall  f1-score   support\n",
            "\n",
            "           0       0.56      0.64      0.60        50\n",
            "           1       0.58      0.50      0.54        50\n",
            "\n",
            "    accuracy                           0.57       100\n",
            "   macro avg       0.57      0.57      0.57       100\n",
            "weighted avg       0.57      0.57      0.57       100\n",
            "\n",
            "\n",
            "Confussion matrix:\n",
            " [[32 18]\n",
            " [25 25]]\n",
            "\n",
            "************************************\n",
            "****SGD Report****\n",
            "SGD Accuracy: 0.55\n",
            "\n",
            "Clasification report:\n",
            "               precision    recall  f1-score   support\n",
            "\n",
            "           0       0.53      0.98      0.69        50\n",
            "           1       0.86      0.12      0.21        50\n",
            "\n",
            "    accuracy                           0.55       100\n",
            "   macro avg       0.69      0.55      0.45       100\n",
            "weighted avg       0.69      0.55      0.45       100\n",
            "\n",
            "\n",
            "Confussion matrix:\n",
            " [[49  1]\n",
            " [44  6]]\n",
            "\n",
            "************************************\n",
            "****ADABoost Report****\n",
            "AdaBoostClassifier Accuracy: 0.69\n",
            "\n",
            "Clasification report:\n",
            "               precision    recall  f1-score   support\n",
            "\n",
            "           0       0.70      0.66      0.68        50\n",
            "           1       0.68      0.72      0.70        50\n",
            "\n",
            "    accuracy                           0.69       100\n",
            "   macro avg       0.69      0.69      0.69       100\n",
            "weighted avg       0.69      0.69      0.69       100\n",
            "\n",
            "\n",
            "Confussion matrix:\n",
            " [[33 17]\n",
            " [14 36]]\n",
            "\n",
            "************************************\n",
            "****RF Report****\n",
            "RandomForest Accuracy: 0.62\n",
            "\n",
            "Clasification report:\n",
            "               precision    recall  f1-score   support\n",
            "\n",
            "           0       0.62      0.62      0.62        50\n",
            "           1       0.62      0.62      0.62        50\n",
            "\n",
            "    accuracy                           0.62       100\n",
            "   macro avg       0.62      0.62      0.62       100\n",
            "weighted avg       0.62      0.62      0.62       100\n",
            "\n",
            "\n",
            "Confussion matrix:\n",
            " [[31 19]\n",
            " [19 31]]\n",
            "\n",
            "************************************\n",
            "****XGB Report****\n",
            "XGBoost Accuracy: 0.67\n",
            "\n",
            "Clasification report:\n",
            "               precision    recall  f1-score   support\n",
            "\n",
            "           0       0.65      0.72      0.69        50\n",
            "           1       0.69      0.62      0.65        50\n",
            "\n",
            "    accuracy                           0.67       100\n",
            "   macro avg       0.67      0.67      0.67       100\n",
            "weighted avg       0.67      0.67      0.67       100\n",
            "\n",
            "\n",
            "Confussion matrix:\n",
            " [[36 14]\n",
            " [19 31]]\n"
          ],
          "name": "stdout"
        }
      ]
    },
    {
      "cell_type": "code",
      "metadata": {
        "colab": {
          "base_uri": "https://localhost:8080/",
          "height": 411
        },
        "id": "8wvKTtIRKGNk",
        "outputId": "834e5f05-e210-4bed-ad9f-cbb08f438c1b"
      },
      "source": [
        "makeROC([ EmotionNB, EmotionXGB, EmotionRF, EmotionADA, EmotionSGD],\"Sentiment, POS, and Entity Real Vs Fake Performance\", dfemotionEntertainment, dfEntertainmentY)"
      ],
      "execution_count": null,
      "outputs": [
        {
          "output_type": "display_data",
          "data": {
            "image/png": "[encoded data removed]",
            "text/plain": [
              "<Figure size 576x432 with 1 Axes>"
            ]
          },
          "metadata": {
            "tags": [],
            "needs_background": "light"
          }
        }
      ]
    },
    {
      "cell_type": "markdown",
      "metadata": {
        "id": "k8wrUzesP7E1"
      },
      "source": [
        "## TFIDF Model Loading and prediction"
      ]
    },
    {
      "cell_type": "code",
      "metadata": {
        "id": "AT3sOJ6smRkU"
      },
      "source": [
        "# Load from file\n",
        "pkl_filename = \"BaseExtractTFIDFNB.pkl\"\n",
        "with open(pkl_filename, 'rb') as file:\n",
        "    TFIDFNB = pickle.load(file)\n",
        "\n",
        "# Load from file\n",
        "pkl_filename = \"BaseExtractTFIDFSGD.pkl\"\n",
        "with open(pkl_filename, 'rb') as file:\n",
        "    TFIDFSGD = pickle.load(file)\n",
        "\n",
        "# Load from file\n",
        "pkl_filename = \"BaseExtractTFIDFADA.pkl\"\n",
        "with open(pkl_filename, 'rb') as file:\n",
        "    TFIDFADA = pickle.load(file)\n",
        "\n",
        "# Load from file\n",
        "pkl_filename = \"BaseExtractTFIDFRF.pkl\"\n",
        "with open(pkl_filename, 'rb') as file:\n",
        "    TFIDFRF = pickle.load(file)\n",
        "\n",
        "# Load from file\n",
        "pkl_filename = \"BaseExtractTFIDFXGB.pkl\"\n",
        "with open(pkl_filename, 'rb') as file:\n",
        "    TFIDFXGB = pickle.load(file)"
      ],
      "execution_count": null,
      "outputs": []
    },
    {
      "cell_type": "code",
      "metadata": {
        "colab": {
          "base_uri": "https://localhost:8080/"
        },
        "id": "2DEn-uuumxO9",
        "outputId": "bbbcc6c1-1f4e-4f70-e442-4a4046ce9442"
      },
      "source": [
        "# replace ngram_range = (1,2) for bigram\n",
        "predictions_NB = TFIDFNB.predict(Entertainment_Train_X_df)\n",
        "# Use accuracy_score function to get the accuracy\n",
        "print(\"****NB Report****\")\n",
        "print(\"MultinomialNB Accuracy:\",metrics.accuracy_score(dfEntertainmentY, predictions_NB))\n",
        "print('\\nClasification report:\\n', classification_report(dfEntertainmentY, predictions_NB))\n",
        "print('\\nConfussion matrix:\\n',confusion_matrix(dfEntertainmentY, predictions_NB)  )\n",
        "print()\n",
        "print(\"*\"*36)\n",
        "\n",
        "\n",
        "# predict the labels on validation dataset\n",
        "predictions_SGD = TFIDFSGD.predict(Entertainment_Train_X_df)\n",
        "# Use accuracy_score function to get the accuracy\n",
        "print(\"****SGD Report****\")\n",
        "print(\"SGD Accuracy:\",metrics.accuracy_score(dfEntertainmentY, predictions_SGD))\n",
        "print('\\nClasification report:\\n', classification_report(dfEntertainmentY, predictions_SGD))\n",
        "print('\\nConfussion matrix:\\n',confusion_matrix(dfEntertainmentY, predictions_SGD))\n",
        "print()\n",
        "print(\"*\"*36)\n",
        "\n",
        "\n",
        "predictions_ADA = TFIDFADA.predict(Entertainment_Train_X_df)\n",
        "# Use accuracy_score function to get the accuracy\n",
        "print(\"****ADABoost Report****\")\n",
        "print(\"AdaBoostClassifier Accuracy:\",metrics.accuracy_score(dfEntertainmentY, predictions_ADA))\n",
        "print('\\nClasification report:\\n', classification_report(dfEntertainmentY, predictions_ADA))\n",
        "print('\\nConfussion matrix:\\n',confusion_matrix(dfEntertainmentY, predictions_ADA) )\n",
        "print()\n",
        "print(\"*\"*36)\n",
        "\n",
        "\n",
        "predictions_RF = TFIDFRF.predict(Entertainment_Train_X_df)\n",
        "# Use accuracy_score function to get the accuracy\n",
        "print(\"****RF Report****\")\n",
        "print(\"RandomForest Accuracy:\",metrics.accuracy_score(dfEntertainmentY, predictions_RF))\n",
        "print('\\nClasification report:\\n', classification_report(dfEntertainmentY, predictions_RF))\n",
        "print('\\nConfussion matrix:\\n',confusion_matrix(dfEntertainmentY, predictions_RF)  )\n",
        "print()\n",
        "print(\"*\"*36)\n",
        "\n",
        "\n",
        "predictions_XGB = TFIDFXGB.predict(Entertainment_Train_X_df)\n",
        "# Use accuracy_score function to get the accuracy\n",
        "print(\"****XGB Report****\")\n",
        "print(\"XGBoost Accuracy:\",metrics.accuracy_score(dfEntertainmentY, predictions_XGB))\n",
        "print('\\nClasification report:\\n', classification_report(dfEntertainmentY, predictions_XGB))\n",
        "print('\\nConfussion matrix:\\n',confusion_matrix(dfEntertainmentY, predictions_XGB)  )"
      ],
      "execution_count": null,
      "outputs": [
        {
          "output_type": "stream",
          "text": [
            "****NB Report****\n",
            "MultinomialNB Accuracy: 0.6\n",
            "\n",
            "Clasification report:\n",
            "               precision    recall  f1-score   support\n",
            "\n",
            "           0       0.56      0.90      0.69        50\n",
            "           1       0.75      0.30      0.43        50\n",
            "\n",
            "    accuracy                           0.60       100\n",
            "   macro avg       0.66      0.60      0.56       100\n",
            "weighted avg       0.66      0.60      0.56       100\n",
            "\n",
            "\n",
            "Confussion matrix:\n",
            " [[45  5]\n",
            " [35 15]]\n",
            "\n",
            "************************************\n",
            "****SGD Report****\n",
            "SGD Accuracy: 0.67\n",
            "\n",
            "Clasification report:\n",
            "               precision    recall  f1-score   support\n",
            "\n",
            "           0       0.61      0.96      0.74        50\n",
            "           1       0.90      0.38      0.54        50\n",
            "\n",
            "    accuracy                           0.67       100\n",
            "   macro avg       0.76      0.67      0.64       100\n",
            "weighted avg       0.76      0.67      0.64       100\n",
            "\n",
            "\n",
            "Confussion matrix:\n",
            " [[48  2]\n",
            " [31 19]]\n",
            "\n",
            "************************************\n",
            "****ADABoost Report****\n",
            "AdaBoostClassifier Accuracy: 0.74\n",
            "\n",
            "Clasification report:\n",
            "               precision    recall  f1-score   support\n",
            "\n",
            "           0       0.68      0.92      0.78        50\n",
            "           1       0.88      0.56      0.68        50\n",
            "\n",
            "    accuracy                           0.74       100\n",
            "   macro avg       0.78      0.74      0.73       100\n",
            "weighted avg       0.78      0.74      0.73       100\n",
            "\n",
            "\n",
            "Confussion matrix:\n",
            " [[46  4]\n",
            " [22 28]]\n",
            "\n",
            "************************************\n",
            "****RF Report****\n",
            "RandomForest Accuracy: 0.68\n",
            "\n",
            "Clasification report:\n",
            "               precision    recall  f1-score   support\n",
            "\n",
            "           0       0.64      0.82      0.72        50\n",
            "           1       0.75      0.54      0.63        50\n",
            "\n",
            "    accuracy                           0.68       100\n",
            "   macro avg       0.70      0.68      0.67       100\n",
            "weighted avg       0.70      0.68      0.67       100\n",
            "\n",
            "\n",
            "Confussion matrix:\n",
            " [[41  9]\n",
            " [23 27]]\n",
            "\n",
            "************************************\n",
            "****XGB Report****\n",
            "XGBoost Accuracy: 0.69\n",
            "\n",
            "Clasification report:\n",
            "               precision    recall  f1-score   support\n",
            "\n",
            "           0       0.64      0.86      0.74        50\n",
            "           1       0.79      0.52      0.63        50\n",
            "\n",
            "    accuracy                           0.69       100\n",
            "   macro avg       0.71      0.69      0.68       100\n",
            "weighted avg       0.71      0.69      0.68       100\n",
            "\n",
            "\n",
            "Confussion matrix:\n",
            " [[43  7]\n",
            " [24 26]]\n"
          ],
          "name": "stdout"
        }
      ]
    },
    {
      "cell_type": "code",
      "metadata": {
        "colab": {
          "base_uri": "https://localhost:8080/",
          "height": 443
        },
        "id": "sMzUTmlPnGV0",
        "outputId": "3f4a6cba-b5e6-4b8a-8105-d764177b701c"
      },
      "source": [
        "print()\n",
        "print(\"*\"*36)\n",
        "\n",
        "makeROC([TFIDFNB, TFIDFXGB, TFIDFRF, TFIDFADA, TFIDFSGD],\"TFIDF extract Real Vs Fake Performance\",Entertainment_Train_X_df, dfEntertainmentY)"
      ],
      "execution_count": null,
      "outputs": [
        {
          "output_type": "stream",
          "text": [
            "\n",
            "************************************\n"
          ],
          "name": "stdout"
        },
        {
          "output_type": "display_data",
          "data": {
            "image/png": "[encoded data removed]",
            "text/plain": [
              "<Figure size 576x432 with 1 Axes>"
            ]
          },
          "metadata": {
            "tags": [],
            "needs_background": "light"
          }
        }
      ]
    },
    {
      "cell_type": "markdown",
      "metadata": {
        "id": "Gfk1c8HJNBiZ"
      },
      "source": [
        "## Overall Model Loading and prediction"
      ]
    },
    {
      "cell_type": "code",
      "metadata": {
        "colab": {
          "base_uri": "https://localhost:8080/"
        },
        "id": "7y76WCyJNMIf",
        "outputId": "df309dd3-8f6a-43e8-e894-dff07dd18ee5"
      },
      "source": [
        "# Load from file\n",
        "pkl_filename = \"OverallNB.pkl\"\n",
        "with open(pkl_filename, 'rb') as file:\n",
        "    OverallNB = pickle.load(file)\n",
        "\n",
        "# Load from file\n",
        "pkl_filename = \"OverallSGD.pkl\"\n",
        "with open(pkl_filename, 'rb') as file:\n",
        "    OverallSGD = pickle.load(file)\n",
        "\n",
        "# Load from file\n",
        "pkl_filename = \"OverallADA.pkl\"\n",
        "with open(pkl_filename, 'rb') as file:\n",
        "    OverallADA = pickle.load(file)\n",
        "\n",
        "# Load from file\n",
        "pkl_filename = \"OverallRF.pkl\"\n",
        "with open(pkl_filename, 'rb') as file:\n",
        "    OverallRF = pickle.load(file)\n",
        "\n",
        "# Load from file\n",
        "pkl_filename = \"OverallXGB.pkl\"\n",
        "with open(pkl_filename, 'rb') as file:\n",
        "    OverallXGB = pickle.load(file)\n",
        "\n",
        "predictions_NB = OverallNB.predict(dfoverallEntertainment)\n",
        "# Use accuracy_score function to get the accuracy\n",
        "print(\"****NB Report****\")\n",
        "print(\"MultinomialNB Accuracy:\",metrics.accuracy_score(dfEntertainmentY, predictions_NB))\n",
        "print('\\nClasification report:\\n', classification_report(dfEntertainmentY, predictions_NB))\n",
        "print('\\nConfussion matrix:\\n',confusion_matrix(dfEntertainmentY, predictions_NB)  )\n",
        "print()\n",
        "print(\"*\"*36)\n",
        "\n",
        "\n",
        "# predict the labels on validation dataset\n",
        "predictions_SGD = OverallSGD.predict(dfoverallEntertainment)\n",
        "# Use accuracy_score function to get the accuracy\n",
        "print(\"****SGD Report****\")\n",
        "print(\"SGD Accuracy:\",metrics.accuracy_score(dfEntertainmentY, predictions_SGD))\n",
        "print('\\nClasification report:\\n', classification_report(dfEntertainmentY, predictions_SGD))\n",
        "print('\\nConfussion matrix:\\n',confusion_matrix(dfEntertainmentY, predictions_SGD))\n",
        "print()\n",
        "print(\"*\"*36)\n",
        "\n",
        "\n",
        "predictions_ADA = OverallADA.predict(dfoverallEntertainment)\n",
        "# Use accuracy_score function to get the accuracy\n",
        "print(\"****ADABoost Report****\")\n",
        "print(\"AdaBoostClassifier Accuracy:\",metrics.accuracy_score(dfEntertainmentY, predictions_ADA))\n",
        "print('\\nClasification report:\\n', classification_report(dfEntertainmentY, predictions_ADA))\n",
        "print('\\nConfussion matrix:\\n',confusion_matrix(dfEntertainmentY, predictions_ADA) )\n",
        "print()\n",
        "print(\"*\"*36)\n",
        "\n",
        "\n",
        "predictions_RF = OverallRF.predict(dfoverallEntertainment)\n",
        "# Use accuracy_score function to get the accuracy\n",
        "print(\"****RF Report****\")\n",
        "print(\"RandomForest Accuracy:\",metrics.accuracy_score(dfEntertainmentY, predictions_RF))\n",
        "print('\\nClasification report:\\n', classification_report(dfEntertainmentY, predictions_RF))\n",
        "print('\\nConfussion matrix:\\n',confusion_matrix(dfEntertainmentY, predictions_RF)  )\n",
        "print()\n",
        "print(\"*\"*36)\n",
        "\n",
        "\n",
        "predictions_XGB = OverallXGB.predict(dfoverallEntertainment)\n",
        "# Use accuracy_score function to get the accuracy\n",
        "print(\"****XGB Report****\")\n",
        "print(\"XGBoost Accuracy:\",metrics.accuracy_score(dfEntertainmentY, predictions_XGB))\n",
        "print('\\nClasification report:\\n', classification_report(dfEntertainmentY, predictions_XGB))\n",
        "print('\\nConfussion matrix:\\n',confusion_matrix(dfEntertainmentY, predictions_XGB)  )"
      ],
      "execution_count": null,
      "outputs": [
        {
          "output_type": "stream",
          "text": [
            "****NB Report****\n",
            "MultinomialNB Accuracy: 0.63\n",
            "\n",
            "Clasification report:\n",
            "               precision    recall  f1-score   support\n",
            "\n",
            "           0       0.59      0.84      0.69        50\n",
            "           1       0.72      0.42      0.53        50\n",
            "\n",
            "    accuracy                           0.63       100\n",
            "   macro avg       0.66      0.63      0.61       100\n",
            "weighted avg       0.66      0.63      0.61       100\n",
            "\n",
            "\n",
            "Confussion matrix:\n",
            " [[42  8]\n",
            " [29 21]]\n",
            "\n",
            "************************************\n",
            "****SGD Report****\n",
            "SGD Accuracy: 0.67\n",
            "\n",
            "Clasification report:\n",
            "               precision    recall  f1-score   support\n",
            "\n",
            "           0       0.71      0.58      0.64        50\n",
            "           1       0.64      0.76      0.70        50\n",
            "\n",
            "    accuracy                           0.67       100\n",
            "   macro avg       0.68      0.67      0.67       100\n",
            "weighted avg       0.68      0.67      0.67       100\n",
            "\n",
            "\n",
            "Confussion matrix:\n",
            " [[29 21]\n",
            " [12 38]]\n",
            "\n",
            "************************************\n",
            "****ADABoost Report****\n",
            "AdaBoostClassifier Accuracy: 0.63\n",
            "\n",
            "Clasification report:\n",
            "               precision    recall  f1-score   support\n",
            "\n",
            "           0       0.59      0.84      0.69        50\n",
            "           1       0.72      0.42      0.53        50\n",
            "\n",
            "    accuracy                           0.63       100\n",
            "   macro avg       0.66      0.63      0.61       100\n",
            "weighted avg       0.66      0.63      0.61       100\n",
            "\n",
            "\n",
            "Confussion matrix:\n",
            " [[42  8]\n",
            " [29 21]]\n",
            "\n",
            "************************************\n",
            "****RF Report****\n",
            "RandomForest Accuracy: 0.69\n",
            "\n",
            "Clasification report:\n",
            "               precision    recall  f1-score   support\n",
            "\n",
            "           0       0.63      0.94      0.75        50\n",
            "           1       0.88      0.44      0.59        50\n",
            "\n",
            "    accuracy                           0.69       100\n",
            "   macro avg       0.75      0.69      0.67       100\n",
            "weighted avg       0.75      0.69      0.67       100\n",
            "\n",
            "\n",
            "Confussion matrix:\n",
            " [[47  3]\n",
            " [28 22]]\n",
            "\n",
            "************************************\n",
            "****XGB Report****\n",
            "XGBoost Accuracy: 0.67\n",
            "\n",
            "Clasification report:\n",
            "               precision    recall  f1-score   support\n",
            "\n",
            "           0       0.60      0.98      0.75        50\n",
            "           1       0.95      0.36      0.52        50\n",
            "\n",
            "    accuracy                           0.67       100\n",
            "   macro avg       0.78      0.67      0.63       100\n",
            "weighted avg       0.78      0.67      0.63       100\n",
            "\n",
            "\n",
            "Confussion matrix:\n",
            " [[49  1]\n",
            " [32 18]]\n"
          ],
          "name": "stdout"
        }
      ]
    },
    {
      "cell_type": "code",
      "metadata": {
        "colab": {
          "base_uri": "https://localhost:8080/",
          "height": 445
        },
        "id": "ZrQ8zjmFTNKO",
        "outputId": "60eda642-696d-4da3-e673-f20cc489aa77"
      },
      "source": [
        "print()\n",
        "print(\"*\"*36)\n",
        "\n",
        "makeROC([OverallNB, OverallXGB, OverallRF, OverallADA, OverallSGD],\"TFIDF extract Real Vs Fake Performance\",dfoverallEntertainment, dfEntertainmentY)"
      ],
      "execution_count": null,
      "outputs": [
        {
          "output_type": "stream",
          "text": [
            "\n",
            "************************************\n"
          ],
          "name": "stdout"
        },
        {
          "output_type": "display_data",
          "data": {
            "image/png": "[encoded data removed]",
            "text/plain": [
              "<Figure size 576x432 with 1 Axes>"
            ]
          },
          "metadata": {
            "tags": [],
            "needs_background": "light"
          }
        }
      ]
    },
    {
      "cell_type": "markdown",
      "metadata": {
        "id": "teVYy5zx9lT9"
      },
      "source": [
        "# For Fast Text Representation"
      ]
    },
    {
      "cell_type": "code",
      "metadata": {
        "id": "dfFP_4b69lT-"
      },
      "source": [
        "tfrom gensim.models.fasttext import FastText\n",
        "import time\n",
        "\n",
        "all_docs = []\n",
        "for i in documents:\n",
        "    for j in i:\n",
        "        all_docs.append(i[0])\n",
        "        \n",
        "# parameters to train fast text\n",
        "embedding_size = 300 #Dimensionality of the word vectors.\n",
        "window_size = 5 #The maximum distance between the current and predicted word within a sentence. Captures context\n",
        "min_word = 5 #The model ignores all words with total frequency lower than this.\n",
        "down_sampling = 1e-2  #The threshold for configuring which higher-frequency words are randomly downsampled\n",
        "\n",
        "# This is to track processing time\n",
        "start_time = time.time()\n",
        "\n",
        "ft_model = FastText(all_docs,\n",
        "                      size=embedding_size,\n",
        "                      window=window_size,\n",
        "                      min_count=min_word,\n",
        "                      sample=down_sampling,\n",
        "                      sg=0, # put 1 if you want to use skip-gram, look into the documentation for other variables\n",
        "                      iter=100)\n",
        "\n",
        "print(\"Embedding Completed! Time taken: %s seconds\\n\" % (time.time() - start_time))\n",
        "\n",
        "print(ft_model)"
      ],
      "execution_count": null,
      "outputs": []
    },
    {
      "cell_type": "code",
      "metadata": {
        "id": "ehKBXCxe9lT_"
      },
      "source": [
        "#The below code is a minor modification of the feature selector and a repeat of the above code\n",
        "import numpy as np\n",
        "\n",
        "def embedded_document_features(document): \n",
        "    document_words = set(document)\n",
        "    features = {}\n",
        "    for word in document_words:\n",
        "        #word=word.lower()\n",
        "        #if word in dictionary:\n",
        "        features['contains({})'.format(word)] = np.mean(ft_model.wv[word]) # the average vector value\n",
        "    return features\n",
        "\n",
        "featuresets = [(embedded_document_features(d), c) for (d,c) in documents]\n",
        "train_set, test_set = featuresets[100:], featuresets[:100]\n",
        "classifier = nltk.NaiveBayesClassifier.train(train_set)\n",
        "\n",
        "print(nltk.classify.accuracy(classifier, test_set))\n",
        "classifier.show_most_informative_features(5)"
      ],
      "execution_count": null,
      "outputs": []
    },
    {
      "cell_type": "code",
      "metadata": {
        "id": "87AcBYPs9lT_"
      },
      "source": [
        "# Compare the results with the previous results and see if there are any difference.\n",
        "# Most of the codes can be further simplified if we are using functions\n",
        "# Note that the we also did not do any pre-processing steps\n",
        "\n",
        "test_result = []\n",
        "gold_result = []\n",
        "\n",
        "for i in range(len(test_set)):\n",
        "    test_result.append(classifier.classify(test_set[i][0]))\n",
        "    gold_result.append(test_set[i][1])\n",
        "\n",
        "print('\\nClasification report:\\n', classification_report(gold_result, test_result))\n",
        "print('\\nConfussion matrix:\\n',confusion_matrix(gold_result, test_result)  )"
      ],
      "execution_count": null,
      "outputs": []
    }
  ]
}