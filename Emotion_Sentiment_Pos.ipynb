{
 "cells": [
  {
   "cell_type": "code",
   "execution_count": 3,
   "metadata": {},
   "outputs": [
    {
     "name": "stderr",
     "output_type": "stream",
     "text": [
      "[nltk_data] Downloading package stopwords to\n",
      "[nltk_data]     C:\\Users\\Clement\\AppData\\Roaming\\nltk_data...\n",
      "[nltk_data]   Package stopwords is already up-to-date!\n",
      "[nltk_data] Downloading package punkt to\n",
      "[nltk_data]     C:\\Users\\Clement\\AppData\\Roaming\\nltk_data...\n",
      "[nltk_data]   Package punkt is already up-to-date!\n",
      "[nltk_data] Downloading package wordnet to\n",
      "[nltk_data]     C:\\Users\\Clement\\AppData\\Roaming\\nltk_data...\n",
      "[nltk_data]   Package wordnet is already up-to-date!\n"
     ]
    }
   ],
   "source": [
    "# !pip install wordcloud\r\n",
    "# !pip install nltk\r\n",
    "import nltk\r\n",
    "# nltk.download('stopwords')\r\n",
    "# nltk.download('punkt')\r\n",
    "# nltk.download('averaged_perceptron_tagger')\r\n",
    "# nltk.download('vader_lexicon')\r\n",
    "\r\n",
    "import pandas as pd \r\n",
    "import numpy as np \r\n",
    "import time\r\n",
    "\r\n",
    "#For Text Cleaning\r\n",
    "import nltk\r\n",
    "from nltk.tokenize import word_tokenize\r\n",
    "from nltk.stem import PorterStemmer\r\n",
    "import re\r\n",
    "from nltk.corpus import stopwords\r\n",
    "stop = stopwords.words('english')\r\n",
    "\r\n",
    "\r\n",
    "#For text vectorizing\r\n",
    "from nltk.tokenize import word_tokenize\r\n",
    "from sklearn.feature_extraction.text import CountVectorizer\r\n",
    "from nltk.tokenize import RegexpTokenizer\r\n",
    "from gensim import corpora\r\n",
    "from gensim import models\r\n",
    "import random\r\n",
    "\r\n",
    "\r\n",
    "\r\n",
    "# Emotion Analysis \r\n",
    "import text2emotion as te\r\n",
    "\r\n",
    "# pos tagging \r\n",
    "from collections import Counter\r\n",
    "\r\n",
    "# ploting \r\n",
    "import seaborn as sn\r\n",
    "import matplotlib.pyplot as plt\r\n",
    "\r\n",
    "# VADER generation \r\n",
    "#nltk.download('vader_lexicon')\r\n",
    "from nltk.sentiment.vader import SentimentIntensityAnalyzer\r\n"
   ]
  },
  {
   "cell_type": "code",
   "execution_count": 4,
   "metadata": {},
   "outputs": [],
   "source": [
    "# for preprocessing\r\n",
    "\r\n",
    "# Function to clean the compiled dataframe\r\n",
    "def preprocess(review):\r\n",
    "    review = \" \".join([stemmer.stem(w.lower()) for w in word_tokenize(review) if not w in stop_words and re.search('^[a-z]+$',w)])\r\n",
    "    return review\r\n",
    "\r\n",
    "def emotion_detection(sents):\r\n",
    "    \"\"\"Main algo for convertion for the 5 emotions \"\"\"\r\n",
    "    sent_emotion = te.get_emotion(sents)\r\n",
    "    return sent_emotion\r\n",
    "    "
   ]
  },
  {
   "cell_type": "markdown",
   "metadata": {},
   "source": [
    "# Emotion Analysis \r\n",
    "- Text 2 Emotion Library \r\n",
    "- 14000 words labelled with emotions to create the distribution of values across the 5 emotions"
   ]
  },
  {
   "cell_type": "code",
   "execution_count": 5,
   "metadata": {},
   "outputs": [],
   "source": [
    "# Generating the Emotions \r\n",
    "def generate_emotions(news_dup):\r\n",
    "    \r\n",
    "    \"\"\"Use to generate the dataframe that appends the orginal text and the emotion label vector\"\"\"\r\n",
    "    \r\n",
    "    emotion_list = []\r\n",
    "    for i, row in news_dup.iterrows():\r\n",
    "        emotion_dict = emotion_detection(row[2])\r\n",
    "        emotion_dict['text'] = row[2]\r\n",
    "        emotion_dict['label'] = row[3]\r\n",
    "        emotion_list.append(emotion_dict)\r\n",
    "        \r\n",
    "        \r\n",
    "    emotion_df = pd.DataFrame(emotion_list)\r\n",
    "    horizontal_stack = news_dup.merge(emotion_df, how='left', on='text')\r\n",
    "    horizontal_stack.drop(['index'], inplace=True, axis=1)       \r\n",
    "            \r\n",
    "    return horizontal_stack"
   ]
  },
  {
   "cell_type": "markdown",
   "metadata": {},
   "source": [
    "# Sentiment Analysis using Nltk sentiment vader library \r\n",
    "- Identify the document sentiment across positive , negative and neutral "
   ]
  },
  {
   "cell_type": "code",
   "execution_count": 6,
   "metadata": {},
   "outputs": [],
   "source": [
    "\r\n",
    "# generating Vader https://towardsdatascience.com/sentimental-analysis-using-vader-a3415fef7664\r\n",
    "def vader_score_generation(emo_pos_df):\r\n",
    "    \r\n",
    "    \"\"\"Generates the vader scores for the dataframe to create neu pos neg tags base on the text \"\"\"\r\n",
    "    sid = SentimentIntensityAnalyzer()\r\n",
    "    polarity_Score = emo_pos_df['text'].apply(lambda review: sid.polarity_scores(review))\r\n",
    "    df_p_scores = polarity_Score.apply(pd.Series).reset_index() # generating the scores and appending it the dataframe end \r\n",
    "    emo_pos_dist_pscore =  emo_pos_df.merge(df_p_scores, left_on='index', right_on='index')\r\n",
    "    return emo_pos_dist_pscore\r\n",
    "\r\n",
    "def zerolistmaker(n):\r\n",
    "    listofzeros = [0] * n\r\n",
    "    return listofzeros\r\n",
    "\r\n",
    "\r\n"
   ]
  },
  {
   "cell_type": "markdown",
   "metadata": {},
   "source": [
    "# POS TAG Features\r\n",
    "\r\n",
    "- Not all pos tags exist in all the documents"
   ]
  },
  {
   "cell_type": "code",
   "execution_count": 7,
   "metadata": {},
   "outputs": [],
   "source": [
    "\r\n",
    "def group_pos_features(pos_tagged_df):\r\n",
    "    \r\n",
    "    \"\"\"This function takes in the POS feature dataframe and group POS tags together.\r\n",
    "      Comments means that the POS tags in this data set is not prevelant as they either are not present or contain too much missing values\r\n",
    "\r\n",
    "      Unpresent POS tags  for now it is known to be insignificant as mentioned in the research paper :\r\n",
    "          pos_tagged_df['group_e'] = pos_tagged_df['EX']\r\n",
    "          pos_tagged_df['NR'] + pos_tagged_df['NPS']\r\n",
    "          pos_tagged_df['group_p'] = pos_tagged_df['PDT'] + pos_tagged_df['POS'] + pos_tagged_df['PP']\r\n",
    "          pos_tagged_df['group_t'] = pos_tagged_df['TO']\r\n",
    "          pos_tagged_df['group_u'] = pos_tagged_df['UH'] \r\n",
    "          pos_tagged_df['group_w'] = pos_tagged_df['WDT'] + pos_tagged_df['WP'] + pos_tagged_df['WP$'] + pos_tagged_df['WRB']\r\n",
    "          # Could be a future work to include using different POS tagging dictionaries\r\n",
    "     \"\"\" \r\n",
    "    #pos_group = ['group_c','group_d','group_f','group_i','group_j','group_m','group_n','group_r','group_v']\r\n",
    "    pos_list = ['CC','CD','DT','FW','IN','JJ','JJR','JJS','MD','NN', 'NNS', 'RBR','RB','VB','VBD', 'VBN','VBP','VBZ']\r\n",
    "    delete_pos_list = []\r\n",
    "    pos_dict = {}\r\n",
    "    for pos_l in pos_list:\r\n",
    "      \r\n",
    "      if pos_l in pos_tagged_df.columns:\r\n",
    "        pos_dict[pos_l] = np.array(list(pos_tagged_df[pos_l]))\r\n",
    "        delete_pos_list.append(pos_l)\r\n",
    "      else:\r\n",
    "        pos_dict[pos_l] = list(zerolistmaker(len(pos_tagged_df)))\r\n",
    "      \r\n",
    "    #print(np.sum([pos_dict['CC'],pos_dict['CD']] , axis=0))\r\n",
    "    pos_tagged_df['group_c'] = np.sum([pos_dict['CC'],pos_dict['CD']], axis=0) \r\n",
    "    pos_tagged_df['group_d'] = pos_dict['DT'] \r\n",
    "    pos_tagged_df['group_f'] = pos_dict['FW'] \r\n",
    "    pos_tagged_df['group_i'] = pos_dict['IN']\r\n",
    "    pos_tagged_df['group_j'] = np.sum([pos_dict['JJ'],pos_dict['JJR'], pos_dict['JJS']], axis=0)  \r\n",
    "    \r\n",
    "    pos_tagged_df['group_m'] = pos_dict['MD']\r\n",
    "    pos_tagged_df['group_n'] = np.sum([pos_dict['NN'],pos_dict['NNS']], axis=0) \r\n",
    "    \r\n",
    "    # changed RBP to RBR \r\n",
    "    pos_tagged_df['group_r'] = np.sum([pos_dict['RBR'],pos_dict['RB']], axis=0) \r\n",
    "    pos_tagged_df['group_v'] =  np.sum([pos_dict['VB'],pos_dict['VBD'], pos_dict['VBN'],  pos_dict['VBP'],  pos_dict['VBZ']], axis=0)  \r\n",
    "\r\n",
    "    return pos_tagged_df, delete_pos_list\r\n",
    "\r\n",
    "\r\n",
    "def generate_pos_tag_dist(df):\r\n",
    "    \r\n",
    "    \"\"\"Takes in a df : this dataframe contains the emotions,\r\n",
    "        and outputs the dataframe with additional pos tags above that have no more than 30% missing \"\"\"\r\n",
    "        \r\n",
    "    emotion_text = list(df['text'])\r\n",
    "    counts = []\r\n",
    "    for sentences in emotion_text:\r\n",
    "        tokens = nltk.word_tokenize(sentences)    \r\n",
    "        tags = nltk.pos_tag(tokens)\r\n",
    "        counts.append(Counter( tag for word,  tag in tags))\r\n",
    "\r\n",
    "    # creating the pos count feature and setting non rare pos tag features ,\r\n",
    "    df_post_dist = pd.DataFrame.from_records(counts)\r\n",
    "    df_post_dist_non_null = df_post_dist.loc[:,df_post_dist.columns[df_post_dist.isnull().mean() < 0.7]].reset_index()\r\n",
    "    df_post_dist_non_null.fillna(0,inplace=True)\r\n",
    "    \r\n",
    "    # combining the dataframe \r\n",
    "    return df_post_dist_non_null\r\n"
   ]
  },
  {
   "cell_type": "markdown",
   "metadata": {},
   "source": [
    "# Feature Generation "
   ]
  },
  {
   "cell_type": "code",
   "execution_count": 21,
   "metadata": {},
   "outputs": [],
   "source": [
    "# Data Reading and Cleaning \r\n",
    "maindf = pd.read_excel('next_100.xlsx')\r\n",
    "stop_words = set(stopwords.words('english'))\r\n",
    "stemmer = PorterStemmer()\r\n",
    "#The bottom two lines will remove all stop words and stem the column text, takes very long do not run\r\n",
    "maindf['text'] = maindf.apply(lambda x: preprocess(x['text']), axis=1)\r\n",
    "#Export the new cleaned data into excel file\r\n",
    "maindf.to_excel(r'next_200.xlsx', index = False, header=True)"
   ]
  },
  {
   "cell_type": "markdown",
   "metadata": {},
   "source": [
    "## Emotion Feature Generation "
   ]
  },
  {
   "cell_type": "code",
   "execution_count": 22,
   "metadata": {},
   "outputs": [],
   "source": [
    "news  = pd.read_excel('next_200.xlsx')\r\n",
    "news_dup = news.copy()\r\n",
    "emp_df = generate_emotions(news_dup)\r\n",
    "emp_df.to_excel('emotion_analysis_final.xlsx')"
   ]
  },
  {
   "cell_type": "markdown",
   "metadata": {},
   "source": [
    "## Pos tag and Sentiment Feature Generation "
   ]
  },
  {
   "cell_type": "markdown",
   "metadata": {},
   "source": [
    "Run from here for 20k : Do not run this below cell if ran "
   ]
  },
  {
   "cell_type": "code",
   "execution_count": 14,
   "metadata": {},
   "outputs": [],
   "source": [
    "emp_df = pd.read_excel('emotion_analysis_final.xlsx')\r\n",
    "\r\n",
    "# Generating the POS tag dist \r\n",
    "emo_pos_df = generate_pos_tag_dist(emp_df)\r\n",
    "emp_df = emp_df.reset_index()\r\n",
    "emp_df = emp_df[emp_df.columns.drop(list(emp_df.filter(regex='index')))]\r\n",
    "emp_df = emp_df.rename(columns={emp_df.columns[0]: 'index'})\r\n",
    "comb_emo_pos_dist =  emp_df.merge(emo_pos_df, left_on='index', right_on='index')\r\n",
    "\r\n",
    "# genrating vader text \r\n",
    "emo_pos_dist_pscore = vader_score_generation(comb_emo_pos_dist)\r\n",
    "emo_pos_dist_pscore.to_excel('emo_pos_dist_pscore.xlsx')\r\n"
   ]
  },
  {
   "cell_type": "markdown",
   "metadata": {},
   "source": [
    "## Processing for plots\r\n",
    "\r\n",
    "Below cell will take a min"
   ]
  },
  {
   "cell_type": "code",
   "execution_count": 15,
   "metadata": {},
   "outputs": [],
   "source": [
    "# Generating of Pos Grouping Features \r\n",
    "emotional_df_stack = pd.read_excel('emo_pos_dist_pscore.xlsx')\r\n",
    "del emotional_df_stack['compound']\r\n",
    "\r\n",
    "emotional_df_stack_groupped_pos, pos_tags = group_pos_features(emotional_df_stack)\r\n",
    "emotional_df_stack_groupped_pos = emotional_df_stack_groupped_pos.loc[:, (emotional_df_stack_groupped_pos != 0).any(axis=0)]\r\n",
    "emotional_df_stack_groupped_pos.to_excel('pos_groupings_vader_emotion.xlsx')\r\n"
   ]
  },
  {
   "cell_type": "markdown",
   "metadata": {},
   "source": [
    "# Visualisation "
   ]
  },
  {
   "cell_type": "markdown",
   "metadata": {},
   "source": [
    "## Principle Component Analysis\r\n",
    "- Fake news is hard to distinguish from Real"
   ]
  },
  {
   "cell_type": "code",
   "execution_count": 16,
   "metadata": {},
   "outputs": [
    {
     "data": {
      "image/png": "[encoded data removed]",
      "text/plain": "<Figure size 576x576 with 1 Axes>"
     },
     "metadata": {
      "needs_background": "light"
     },
     "output_type": "display_data"
    }
   ],
   "source": [
    "# PCA \r\n",
    "from sklearn.decomposition import PCA\r\n",
    "emotional_df_stack = pd.read_excel('pos_groupings_vader_emotion.xlsx')\r\n",
    "news_pca = emotional_df_stack.iloc[:, 5:]\r\n",
    "\r\n",
    "pca = PCA(n_components=2)\r\n",
    "news_pca_components = pca.fit_transform(news_pca)\r\n",
    "principalDf = pd.DataFrame(data = news_pca_components, columns = ['principal component 1', 'principal component 2'])\r\n",
    "finalDf = pd.concat([principalDf, news_pca[['label']]], axis = 1) \r\n",
    "\r\n",
    "import matplotlib.pyplot as plt\r\n",
    "\r\n",
    "fig = plt.figure(figsize = (8,8))\r\n",
    "ax = fig.add_subplot(1,1,1) \r\n",
    "ax.set_xlabel('Principal Component 1', fontsize = 15)\r\n",
    "ax.set_ylabel('Principal Component 2', fontsize = 15)\r\n",
    "ax.set_title('2 component PCA', fontsize = 20)\r\n",
    "targets = [1,0]\r\n",
    "colors = ['r', 'g']\r\n",
    "for target, color in zip(targets,colors):\r\n",
    "    indicesToKeep = finalDf['label'] == target\r\n",
    "    ax.scatter(finalDf.loc[indicesToKeep, 'principal component 1']\r\n",
    "               , finalDf.loc[indicesToKeep, 'principal component 2']\r\n",
    "               , c = color\r\n",
    "               , s = 50)\r\n",
    "ax.legend(targets)\r\n",
    "ax.grid()"
   ]
  },
  {
   "cell_type": "markdown",
   "metadata": {},
   "source": [
    "### Covariance Between Sentiment and Emotions\r\n",
    " - Understand if there is active multi - colinearity "
   ]
  },
  {
   "cell_type": "code",
   "execution_count": 17,
   "metadata": {},
   "outputs": [
    {
     "name": "stdout",
     "output_type": "stream",
     "text": [
      "compound  index       0.001940\n",
      "index     compound    0.001940\n",
      "          label_y     0.002819\n",
      "label_y   index       0.002819\n",
      "index     Sad         0.002897\n",
      "                        ...   \n",
      "compound  pos         0.533407\n",
      "pos       compound    0.533407\n",
      "neu       pos         0.587556\n",
      "pos       neu         0.587556\n",
      "compound  neg         0.650321\n",
      "Length: 107, dtype: float64\n"
     ]
    }
   ],
   "source": [
    "# Printing Corrvariance value \r\n",
    "corr_sentiment_emotion = pd.read_excel('sentiment_emotion_corr.xlsx')\r\n",
    "c = corr_sentiment_emotion.corr().abs()\r\n",
    "s = c.unstack()\r\n",
    "so = s.sort_values(kind=\"quicksort\")\r\n",
    "print(so[:-14])"
   ]
  },
  {
   "cell_type": "code",
   "execution_count": 18,
   "metadata": {},
   "outputs": [
    {
     "data": {
      "text/plain": "<AxesSubplot:>"
     },
     "execution_count": 18,
     "metadata": {},
     "output_type": "execute_result"
    },
    {
     "data": {
      "image/png": "[encoded data removed]",
      "text/plain": "<Figure size 432x288 with 2 Axes>"
     },
     "metadata": {
      "needs_background": "light"
     },
     "output_type": "display_data"
    }
   ],
   "source": [
    "# Covariance heatmap \r\n",
    "cov_mat = corr_sentiment_emotion.corr()\r\n",
    "# plot the heatmap\r\n",
    "sn.heatmap(cov_mat, \r\n",
    "        xticklabels=cov_mat.columns,\r\n",
    "        yticklabels=cov_mat.columns)"
   ]
  },
  {
   "cell_type": "markdown",
   "metadata": {},
   "source": [
    "## Distribution of Fake and Real news by emotion  \r\n",
    "- Fake news have higher levels of negative emotions "
   ]
  },
  {
   "cell_type": "code",
   "execution_count": 19,
   "metadata": {},
   "outputs": [
    {
     "data": {
      "text/plain": "<AxesSubplot:xlabel='label'>"
     },
     "execution_count": 19,
     "metadata": {},
     "output_type": "execute_result"
    },
    {
     "data": {
      "image/png": "[encoded data removed]",
      "text/plain": "<Figure size 720x360 with 1 Axes>"
     },
     "metadata": {
      "needs_background": "light"
     },
     "output_type": "display_data"
    }
   ],
   "source": [
    "# Bar charts \r\n",
    "\r\n",
    "# generating distribution for emotions \r\n",
    "# Distribution of label by emotion \r\n",
    "plotting_df_emotion_senti_pso = emotional_df_stack.iloc[:, 4:]\r\n",
    "plotting_df_emotion_senti_pso.groupby('label').mean().reset_index().plot(figsize=(10, 5),x=\"label\", y=[\"Happy\", \"Angry\", \"Surprise\", \"Sad\", \"Fear\"], kind=\"bar\")\r\n",
    "\r\n"
   ]
  },
  {
   "cell_type": "markdown",
   "metadata": {},
   "source": [
    "## Distribution of POS Tags for Real and Fake News\r\n",
    "- Problem : Large number of Features and mostly are empty > makes the data sparse"
   ]
  },
  {
   "cell_type": "code",
   "execution_count": 20,
   "metadata": {},
   "outputs": [
    {
     "data": {
      "text/plain": "<AxesSubplot:xlabel='label'>"
     },
     "execution_count": 20,
     "metadata": {},
     "output_type": "execute_result"
    },
    {
     "data": {
      "image/png": "[encoded data removed]",
      "text/plain": "<Figure size 720x360 with 1 Axes>"
     },
     "metadata": {
      "needs_background": "light"
     },
     "output_type": "display_data"
    }
   ],
   "source": [
    "# generating the distribution for POS tags\r\n",
    "plotting_df_emotion_senti_pso.groupby('label').mean().reset_index().plot(figsize=(10, 5),x=\"label\", y=list(pos_tags), kind=\"bar\")"
   ]
  },
  {
   "cell_type": "markdown",
   "metadata": {},
   "source": [
    "### POS TAG GROUPS Distribution for Real and Fake News\r\n",
    "\r\n",
    "- Pos Groups reduce the features and sparsity of the dataset "
   ]
  },
  {
   "cell_type": "code",
   "execution_count": 21,
   "metadata": {},
   "outputs": [
    {
     "data": {
      "text/plain": "<AxesSubplot:xlabel='label'>"
     },
     "execution_count": 21,
     "metadata": {},
     "output_type": "execute_result"
    },
    {
     "data": {
      "image/png": "[encoded data removed]",
      "text/plain": "<Figure size 1080x360 with 1 Axes>"
     },
     "metadata": {
      "needs_background": "light"
     },
     "output_type": "display_data"
    }
   ],
   "source": [
    "# generating the distribution for Vader tags\r\n",
    "pos_groups_dist = emotional_df_stack.columns[-9:]\r\n",
    "emotional_df_stack.groupby('label').mean().reset_index().plot(figsize=(15, 5), x=\"label\", y=pos_groups_dist, kind=\"bar\")"
   ]
  },
  {
   "cell_type": "markdown",
   "metadata": {},
   "source": [
    "## Distribution of Sentiments for Real and Fake News\r\n",
    "\r\n",
    "- Fake news have less netural tone in news , mostly take more stand in either being more positive or negative"
   ]
  },
  {
   "cell_type": "code",
   "execution_count": 22,
   "metadata": {},
   "outputs": [
    {
     "data": {
      "text/plain": "<AxesSubplot:xlabel='label'>"
     },
     "execution_count": 22,
     "metadata": {},
     "output_type": "execute_result"
    },
    {
     "data": {
      "image/png": "[encoded data removed]",
      "text/plain": "<Figure size 720x360 with 1 Axes>"
     },
     "metadata": {
      "needs_background": "light"
     },
     "output_type": "display_data"
    }
   ],
   "source": [
    "# generating the distribution for Vader tags\r\n",
    "vader_tags = ['neg','neu','pos']\r\n",
    "plotting_df_emotion_senti_pso.groupby('label').mean().reset_index().plot(figsize=(10, 5), x=\"label\", y=vader_tags, kind=\"bar\")"
   ]
  },
  {
   "cell_type": "markdown",
   "metadata": {},
   "source": [
    "# Output file"
   ]
  },
  {
   "cell_type": "markdown",
   "metadata": {},
   "source": [
    "Do not run unless its done "
   ]
  },
  {
   "cell_type": "code",
   "execution_count": 44,
   "metadata": {},
   "outputs": [],
   "source": [
    "emotional_df_stack.drop(columns=pos_tags, inplace=True)\r\n",
    "emotional_df_stack = emotional_df_stack.loc[:, (emotional_df_stack != 0).any(axis=0)]\r\n",
    "emotional_df_stack.to_excel('pos_groupings_vader_emotion_final.xlsx')"
   ]
  },
  {
   "cell_type": "code",
   "execution_count": 24,
   "metadata": {},
   "outputs": [
    {
     "name": "stdout",
     "output_type": "stream",
     "text": [
      "['CC', 'CD', 'DT', 'FW', 'IN', 'JJ', 'JJR', 'JJS', 'MD', 'NN', 'NNS', 'RBR', 'RB', 'VB', 'VBD', 'VBN', 'VBP', 'VBZ']\n",
      "Index(['group_c', 'group_d', 'group_f', 'group_i', 'group_j', 'group_m',\n",
      "       'group_n', 'group_r', 'group_v'],\n",
      "      dtype='object')\n",
      "['neg', 'neu', 'pos']\n"
     ]
    }
   ],
   "source": [
    "print(pos_tags)\r\n",
    "print(pos_groups_dist)\r\n",
    "print(vader_tags)"
   ]
  },
  {
   "cell_type": "code",
   "execution_count": null,
   "metadata": {},
   "outputs": [],
   "source": []
  }
 ],
 "metadata": {
  "kernelspec": {
   "display_name": "Python 3.8.1 32-bit",
   "name": "python38132bitff808254b32a4004a899d65f0f7f6a97"
  },
  "language_info": {
   "codemirror_mode": {
    "name": "ipython",
    "version": 3
   },
   "file_extension": ".py",
   "mimetype": "text/x-python",
   "name": "python",
   "nbconvert_exporter": "python",
   "pygments_lexer": "ipython3",
   "version": "3.8.1"
  },
  "metadata": {
   "interpreter": {
    "hash": "77c0077707451b7ebf687576693bf285374cdd67998d5b8795aafd545143164d"
   }
  },
  "orig_nbformat": 2
 },
 "nbformat": 4,
 "nbformat_minor": 2
}