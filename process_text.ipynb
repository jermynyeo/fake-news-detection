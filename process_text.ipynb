{
 "metadata": {
  "language_info": {
   "codemirror_mode": {
    "name": "ipython",
    "version": 3
   },
   "file_extension": ".py",
   "mimetype": "text/x-python",
   "name": "python",
   "nbconvert_exporter": "python",
   "pygments_lexer": "ipython3",
   "version": "3.8.8-final"
  },
  "orig_nbformat": 2,
  "kernelspec": {
   "name": "python388jvsc74a57bd0c45fc629d3d63ba39a4836cded2d932c1d505ff54a7cb002ca860f3d9bb67ee0",
   "display_name": "Python 3.8.8 64-bit"
  },
  "metadata": {
   "interpreter": {
    "hash": "c45fc629d3d63ba39a4836cded2d932c1d505ff54a7cb002ca860f3d9bb67ee0"
   }
  }
 },
 "nbformat": 4,
 "nbformat_minor": 2,
 "cells": [
  {
   "cell_type": "code",
   "execution_count": 1,
   "metadata": {},
   "outputs": [],
   "source": [
    "import os\n",
    "import re\n",
    "import pandas as pd"
   ]
  },
  {
   "cell_type": "code",
   "execution_count": 4,
   "metadata": {
    "tags": []
   },
   "outputs": [
    {
     "output_type": "stream",
     "name": "stdout",
     "text": [
      "   index          title                                               text  \\\n0      0  Entertainment  Message in grain field in N Dakota\\n Believe i...   \n1      1  Entertainment  Jennifer Aniston dashes 'Friends' reunion hope...   \n2      2  Entertainment  This Is What Brad Pitt Has Been Texting Jennif...   \n3      3  Entertainment  Jennifer Aniston's spokesman denies reports th...   \n4      4  Entertainment  Jennifer Aniston sparks adoption rumors\\n \\n B...   \n\n   label  \n0      1  \n1      1  \n2      1  \n3      1  \n4      1  \n"
     ]
    }
   ],
   "source": [
    "FILEDIR = \"sample_data/entertainment/\"\n",
    "FILENAME = [\"real/\", \"fake/\"]\n",
    "\n",
    "file_directory = 'data/SampleText'\n",
    "filename_pattern = '.+\\.txt'\n",
    "\n",
    "regex_pattern = \"[a-zA-Z'_]+\"\n",
    "\n",
    "text = []\n",
    "for file in FILENAME: \n",
    "    file_dir = FILEDIR + file\n",
    "    entries = os.listdir(file_dir)\n",
    "    for f in entries:\n",
    "        with open(file_dir + f, 'r', encoding=\"utf8\") as file: \n",
    "            lines = file.readlines()\n",
    "            # cleanedLines = [[w for w in l if re.search(regex_pattern,w)] for l in lines]\n",
    "            joinedLines = ' '.join(lines)\n",
    "            joinedLines = joinedLines.strip(\"\\n\")\n",
    "            text.append(joinedLines)\n",
    "\n",
    "label  = [1 for i in range(300)] + [0 for i in range(300)] \n",
    "title  = [\"Entertainment\" for i in range(600)]\n",
    "index  = [i for i in range(600)]\n",
    "df = pd.DataFrame({\"index\":index, \"title\":title, \"text\":text, \"label\":label})\n",
    "print (df.head())\n",
    "df.to_excel(\"sample_data/entertainment_text.xlsx\")"
   ]
  },
  {
   "cell_type": "code",
   "execution_count": 3,
   "metadata": {},
   "outputs": [],
   "source": [
    "import pandas as pd \n",
    "df = pd.read_pickle(\"topicModel14.pickle\")"
   ]
  },
  {
   "cell_type": "code",
   "execution_count": 6,
   "metadata": {},
   "outputs": [],
   "source": [
    "\n",
    "import pickle\n",
    "class Foo(object): pass\n",
    "\n",
    "a = Foo()\n",
    "with open('topicModel14.pickle','wb') as f:\n",
    "    pickle.dump(a,f)"
   ]
  },
  {
   "cell_type": "code",
   "execution_count": null,
   "metadata": {},
   "outputs": [],
   "source": []
  }
 ]
}